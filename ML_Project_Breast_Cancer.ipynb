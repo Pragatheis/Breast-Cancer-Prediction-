{
  "nbformat": 4,
  "nbformat_minor": 0,
  "metadata": {
    "colab": {
      "name": "ML Project_Breast Cancer.ipynb",
      "provenance": [],
      "include_colab_link": true
    },
    "kernelspec": {
      "name": "python3",
      "display_name": "Python 3"
    },
    "language_info": {
      "name": "python"
    }
  },
  "cells": [
    {
      "cell_type": "markdown",
      "metadata": {
        "id": "view-in-github",
        "colab_type": "text"
      },
      "source": [
        "<a href=\"https://colab.research.google.com/github/Pragatheis/Breast-Cancer-Prediction-/blob/main/ML_Project_Breast_Cancer.ipynb\" target=\"_parent\"><img src=\"https://colab.research.google.com/assets/colab-badge.svg\" alt=\"Open In Colab\"/></a>"
      ]
    },
    {
      "cell_type": "markdown",
      "metadata": {
        "id": "WcRsZ04pR4zZ"
      },
      "source": [
        "## ML Project - Fall 2021 CNIT 62300"
      ]
    },
    {
      "cell_type": "markdown",
      "metadata": {
        "id": "ogmH7oaR6vv3"
      },
      "source": [
        "## 1. Library"
      ]
    },
    {
      "cell_type": "code",
      "metadata": {
        "id": "vDeTIJ5eu7hj"
      },
      "source": [
        "import numpy as np  #  Numpy for Numerical Analysis\n",
        "import pandas as pd # Pandas for Data (Pre)processing \n",
        "import os           # ??\n",
        "import matplotlib.pyplot as plt # Matplotlib for Visualization (plot/graphs)\n",
        "import seaborn as sns # Seaborn for Statistical graphics in Python \n",
        "\n",
        "pd.options.display.max_columns = 100"
      ],
      "execution_count": null,
      "outputs": []
    },
    {
      "cell_type": "markdown",
      "metadata": {
        "id": "AAql8L4q64bW"
      },
      "source": [
        "# 2. Data Import"
      ]
    },
    {
      "cell_type": "code",
      "metadata": {
        "id": "JlfEkPrHvXii"
      },
      "source": [
        "bc_data = pd.read_csv(\"./data.csv\") # Dataset (CSV) uploaded to the Google Colab "
      ],
      "execution_count": null,
      "outputs": []
    },
    {
      "cell_type": "code",
      "metadata": {
        "id": "dn3fjNDfS_Cz"
      },
      "source": [
        "from google.colab import drive\n",
        "drive.mount('/content/drive')"
      ],
      "execution_count": null,
      "outputs": []
    },
    {
      "cell_type": "markdown",
      "metadata": {
        "id": "z-BQHZzP69xN"
      },
      "source": [
        "## 3. Exploring Data, Attributes and Parameters\n"
      ]
    },
    {
      "cell_type": "code",
      "metadata": {
        "id": "TaWpPtRlvaTK",
        "colab": {
          "base_uri": "https://localhost:8080/"
        },
        "outputId": "a241434c-9753-4ba7-8198-c87006ae7c04"
      },
      "source": [
        "# Total number of Rows and Columns in the Dataset \n",
        "len(bc_data.index), len(bc_data.columns)\n",
        "bc_data.shape"
      ],
      "execution_count": null,
      "outputs": [
        {
          "output_type": "execute_result",
          "data": {
            "text/plain": [
              "(569, 33)"
            ]
          },
          "metadata": {},
          "execution_count": 4
        }
      ]
    },
    {
      "cell_type": "code",
      "metadata": {
        "colab": {
          "base_uri": "https://localhost:8080/"
        },
        "id": "SvDyn9XOUQU2",
        "outputId": "4b3814db-c493-4630-a193-cad1b773b105"
      },
      "source": [
        "bc_data.info() # Quick view at the structure of the Breast Cancer Dataset "
      ],
      "execution_count": null,
      "outputs": [
        {
          "output_type": "stream",
          "name": "stdout",
          "text": [
            "<class 'pandas.core.frame.DataFrame'>\n",
            "RangeIndex: 569 entries, 0 to 568\n",
            "Data columns (total 33 columns):\n",
            " #   Column                   Non-Null Count  Dtype  \n",
            "---  ------                   --------------  -----  \n",
            " 0   id                       569 non-null    int64  \n",
            " 1   diagnosis                569 non-null    object \n",
            " 2   radius_mean              569 non-null    float64\n",
            " 3   texture_mean             569 non-null    float64\n",
            " 4   perimeter_mean           569 non-null    float64\n",
            " 5   area_mean                569 non-null    float64\n",
            " 6   smoothness_mean          569 non-null    float64\n",
            " 7   compactness_mean         569 non-null    float64\n",
            " 8   concavity_mean           569 non-null    float64\n",
            " 9   concave points_mean      569 non-null    float64\n",
            " 10  symmetry_mean            569 non-null    float64\n",
            " 11  fractal_dimension_mean   569 non-null    float64\n",
            " 12  radius_se                569 non-null    float64\n",
            " 13  texture_se               569 non-null    float64\n",
            " 14  perimeter_se             569 non-null    float64\n",
            " 15  area_se                  569 non-null    float64\n",
            " 16  smoothness_se            569 non-null    float64\n",
            " 17  compactness_se           569 non-null    float64\n",
            " 18  concavity_se             569 non-null    float64\n",
            " 19  concave points_se        569 non-null    float64\n",
            " 20  symmetry_se              569 non-null    float64\n",
            " 21  fractal_dimension_se     569 non-null    float64\n",
            " 22  radius_worst             569 non-null    float64\n",
            " 23  texture_worst            569 non-null    float64\n",
            " 24  perimeter_worst          569 non-null    float64\n",
            " 25  area_worst               569 non-null    float64\n",
            " 26  smoothness_worst         569 non-null    float64\n",
            " 27  compactness_worst        569 non-null    float64\n",
            " 28  concavity_worst          569 non-null    float64\n",
            " 29  concave points_worst     569 non-null    float64\n",
            " 30  symmetry_worst           569 non-null    float64\n",
            " 31  fractal_dimension_worst  569 non-null    float64\n",
            " 32  Unnamed: 32              0 non-null      float64\n",
            "dtypes: float64(31), int64(1), object(1)\n",
            "memory usage: 146.8+ KB\n"
          ]
        }
      ]
    },
    {
      "cell_type": "code",
      "metadata": {
        "colab": {
          "base_uri": "https://localhost:8080/",
          "height": 241
        },
        "id": "zrubGHOv0yqt",
        "outputId": "eafac03d-a3a0-4180-fa31-7f89f8f62f93"
      },
      "source": [
        "bc_data.head() # Top 5 elements in the Dataset [Row 0 to Row 4]"
      ],
      "execution_count": null,
      "outputs": [
        {
          "output_type": "execute_result",
          "data": {
            "text/html": [
              "<div>\n",
              "<style scoped>\n",
              "    .dataframe tbody tr th:only-of-type {\n",
              "        vertical-align: middle;\n",
              "    }\n",
              "\n",
              "    .dataframe tbody tr th {\n",
              "        vertical-align: top;\n",
              "    }\n",
              "\n",
              "    .dataframe thead th {\n",
              "        text-align: right;\n",
              "    }\n",
              "</style>\n",
              "<table border=\"1\" class=\"dataframe\">\n",
              "  <thead>\n",
              "    <tr style=\"text-align: right;\">\n",
              "      <th></th>\n",
              "      <th>id</th>\n",
              "      <th>diagnosis</th>\n",
              "      <th>radius_mean</th>\n",
              "      <th>texture_mean</th>\n",
              "      <th>perimeter_mean</th>\n",
              "      <th>area_mean</th>\n",
              "      <th>smoothness_mean</th>\n",
              "      <th>compactness_mean</th>\n",
              "      <th>concavity_mean</th>\n",
              "      <th>concave points_mean</th>\n",
              "      <th>symmetry_mean</th>\n",
              "      <th>fractal_dimension_mean</th>\n",
              "      <th>radius_se</th>\n",
              "      <th>texture_se</th>\n",
              "      <th>perimeter_se</th>\n",
              "      <th>area_se</th>\n",
              "      <th>smoothness_se</th>\n",
              "      <th>compactness_se</th>\n",
              "      <th>concavity_se</th>\n",
              "      <th>concave points_se</th>\n",
              "      <th>symmetry_se</th>\n",
              "      <th>fractal_dimension_se</th>\n",
              "      <th>radius_worst</th>\n",
              "      <th>texture_worst</th>\n",
              "      <th>perimeter_worst</th>\n",
              "      <th>area_worst</th>\n",
              "      <th>smoothness_worst</th>\n",
              "      <th>compactness_worst</th>\n",
              "      <th>concavity_worst</th>\n",
              "      <th>concave points_worst</th>\n",
              "      <th>symmetry_worst</th>\n",
              "      <th>fractal_dimension_worst</th>\n",
              "      <th>Unnamed: 32</th>\n",
              "    </tr>\n",
              "  </thead>\n",
              "  <tbody>\n",
              "    <tr>\n",
              "      <th>0</th>\n",
              "      <td>842302</td>\n",
              "      <td>M</td>\n",
              "      <td>17.99</td>\n",
              "      <td>10.38</td>\n",
              "      <td>122.80</td>\n",
              "      <td>1001.0</td>\n",
              "      <td>0.11840</td>\n",
              "      <td>0.27760</td>\n",
              "      <td>0.3001</td>\n",
              "      <td>0.14710</td>\n",
              "      <td>0.2419</td>\n",
              "      <td>0.07871</td>\n",
              "      <td>1.0950</td>\n",
              "      <td>0.9053</td>\n",
              "      <td>8.589</td>\n",
              "      <td>153.40</td>\n",
              "      <td>0.006399</td>\n",
              "      <td>0.04904</td>\n",
              "      <td>0.05373</td>\n",
              "      <td>0.01587</td>\n",
              "      <td>0.03003</td>\n",
              "      <td>0.006193</td>\n",
              "      <td>25.38</td>\n",
              "      <td>17.33</td>\n",
              "      <td>184.60</td>\n",
              "      <td>2019.0</td>\n",
              "      <td>0.1622</td>\n",
              "      <td>0.6656</td>\n",
              "      <td>0.7119</td>\n",
              "      <td>0.2654</td>\n",
              "      <td>0.4601</td>\n",
              "      <td>0.11890</td>\n",
              "      <td>NaN</td>\n",
              "    </tr>\n",
              "    <tr>\n",
              "      <th>1</th>\n",
              "      <td>842517</td>\n",
              "      <td>M</td>\n",
              "      <td>20.57</td>\n",
              "      <td>17.77</td>\n",
              "      <td>132.90</td>\n",
              "      <td>1326.0</td>\n",
              "      <td>0.08474</td>\n",
              "      <td>0.07864</td>\n",
              "      <td>0.0869</td>\n",
              "      <td>0.07017</td>\n",
              "      <td>0.1812</td>\n",
              "      <td>0.05667</td>\n",
              "      <td>0.5435</td>\n",
              "      <td>0.7339</td>\n",
              "      <td>3.398</td>\n",
              "      <td>74.08</td>\n",
              "      <td>0.005225</td>\n",
              "      <td>0.01308</td>\n",
              "      <td>0.01860</td>\n",
              "      <td>0.01340</td>\n",
              "      <td>0.01389</td>\n",
              "      <td>0.003532</td>\n",
              "      <td>24.99</td>\n",
              "      <td>23.41</td>\n",
              "      <td>158.80</td>\n",
              "      <td>1956.0</td>\n",
              "      <td>0.1238</td>\n",
              "      <td>0.1866</td>\n",
              "      <td>0.2416</td>\n",
              "      <td>0.1860</td>\n",
              "      <td>0.2750</td>\n",
              "      <td>0.08902</td>\n",
              "      <td>NaN</td>\n",
              "    </tr>\n",
              "    <tr>\n",
              "      <th>2</th>\n",
              "      <td>84300903</td>\n",
              "      <td>M</td>\n",
              "      <td>19.69</td>\n",
              "      <td>21.25</td>\n",
              "      <td>130.00</td>\n",
              "      <td>1203.0</td>\n",
              "      <td>0.10960</td>\n",
              "      <td>0.15990</td>\n",
              "      <td>0.1974</td>\n",
              "      <td>0.12790</td>\n",
              "      <td>0.2069</td>\n",
              "      <td>0.05999</td>\n",
              "      <td>0.7456</td>\n",
              "      <td>0.7869</td>\n",
              "      <td>4.585</td>\n",
              "      <td>94.03</td>\n",
              "      <td>0.006150</td>\n",
              "      <td>0.04006</td>\n",
              "      <td>0.03832</td>\n",
              "      <td>0.02058</td>\n",
              "      <td>0.02250</td>\n",
              "      <td>0.004571</td>\n",
              "      <td>23.57</td>\n",
              "      <td>25.53</td>\n",
              "      <td>152.50</td>\n",
              "      <td>1709.0</td>\n",
              "      <td>0.1444</td>\n",
              "      <td>0.4245</td>\n",
              "      <td>0.4504</td>\n",
              "      <td>0.2430</td>\n",
              "      <td>0.3613</td>\n",
              "      <td>0.08758</td>\n",
              "      <td>NaN</td>\n",
              "    </tr>\n",
              "    <tr>\n",
              "      <th>3</th>\n",
              "      <td>84348301</td>\n",
              "      <td>M</td>\n",
              "      <td>11.42</td>\n",
              "      <td>20.38</td>\n",
              "      <td>77.58</td>\n",
              "      <td>386.1</td>\n",
              "      <td>0.14250</td>\n",
              "      <td>0.28390</td>\n",
              "      <td>0.2414</td>\n",
              "      <td>0.10520</td>\n",
              "      <td>0.2597</td>\n",
              "      <td>0.09744</td>\n",
              "      <td>0.4956</td>\n",
              "      <td>1.1560</td>\n",
              "      <td>3.445</td>\n",
              "      <td>27.23</td>\n",
              "      <td>0.009110</td>\n",
              "      <td>0.07458</td>\n",
              "      <td>0.05661</td>\n",
              "      <td>0.01867</td>\n",
              "      <td>0.05963</td>\n",
              "      <td>0.009208</td>\n",
              "      <td>14.91</td>\n",
              "      <td>26.50</td>\n",
              "      <td>98.87</td>\n",
              "      <td>567.7</td>\n",
              "      <td>0.2098</td>\n",
              "      <td>0.8663</td>\n",
              "      <td>0.6869</td>\n",
              "      <td>0.2575</td>\n",
              "      <td>0.6638</td>\n",
              "      <td>0.17300</td>\n",
              "      <td>NaN</td>\n",
              "    </tr>\n",
              "    <tr>\n",
              "      <th>4</th>\n",
              "      <td>84358402</td>\n",
              "      <td>M</td>\n",
              "      <td>20.29</td>\n",
              "      <td>14.34</td>\n",
              "      <td>135.10</td>\n",
              "      <td>1297.0</td>\n",
              "      <td>0.10030</td>\n",
              "      <td>0.13280</td>\n",
              "      <td>0.1980</td>\n",
              "      <td>0.10430</td>\n",
              "      <td>0.1809</td>\n",
              "      <td>0.05883</td>\n",
              "      <td>0.7572</td>\n",
              "      <td>0.7813</td>\n",
              "      <td>5.438</td>\n",
              "      <td>94.44</td>\n",
              "      <td>0.011490</td>\n",
              "      <td>0.02461</td>\n",
              "      <td>0.05688</td>\n",
              "      <td>0.01885</td>\n",
              "      <td>0.01756</td>\n",
              "      <td>0.005115</td>\n",
              "      <td>22.54</td>\n",
              "      <td>16.67</td>\n",
              "      <td>152.20</td>\n",
              "      <td>1575.0</td>\n",
              "      <td>0.1374</td>\n",
              "      <td>0.2050</td>\n",
              "      <td>0.4000</td>\n",
              "      <td>0.1625</td>\n",
              "      <td>0.2364</td>\n",
              "      <td>0.07678</td>\n",
              "      <td>NaN</td>\n",
              "    </tr>\n",
              "  </tbody>\n",
              "</table>\n",
              "</div>"
            ],
            "text/plain": [
              "         id diagnosis  radius_mean  texture_mean  perimeter_mean  area_mean  \\\n",
              "0    842302         M        17.99         10.38          122.80     1001.0   \n",
              "1    842517         M        20.57         17.77          132.90     1326.0   \n",
              "2  84300903         M        19.69         21.25          130.00     1203.0   \n",
              "3  84348301         M        11.42         20.38           77.58      386.1   \n",
              "4  84358402         M        20.29         14.34          135.10     1297.0   \n",
              "\n",
              "   smoothness_mean  compactness_mean  concavity_mean  concave points_mean  \\\n",
              "0          0.11840           0.27760          0.3001              0.14710   \n",
              "1          0.08474           0.07864          0.0869              0.07017   \n",
              "2          0.10960           0.15990          0.1974              0.12790   \n",
              "3          0.14250           0.28390          0.2414              0.10520   \n",
              "4          0.10030           0.13280          0.1980              0.10430   \n",
              "\n",
              "   symmetry_mean  fractal_dimension_mean  radius_se  texture_se  perimeter_se  \\\n",
              "0         0.2419                 0.07871     1.0950      0.9053         8.589   \n",
              "1         0.1812                 0.05667     0.5435      0.7339         3.398   \n",
              "2         0.2069                 0.05999     0.7456      0.7869         4.585   \n",
              "3         0.2597                 0.09744     0.4956      1.1560         3.445   \n",
              "4         0.1809                 0.05883     0.7572      0.7813         5.438   \n",
              "\n",
              "   area_se  smoothness_se  compactness_se  concavity_se  concave points_se  \\\n",
              "0   153.40       0.006399         0.04904       0.05373            0.01587   \n",
              "1    74.08       0.005225         0.01308       0.01860            0.01340   \n",
              "2    94.03       0.006150         0.04006       0.03832            0.02058   \n",
              "3    27.23       0.009110         0.07458       0.05661            0.01867   \n",
              "4    94.44       0.011490         0.02461       0.05688            0.01885   \n",
              "\n",
              "   symmetry_se  fractal_dimension_se  radius_worst  texture_worst  \\\n",
              "0      0.03003              0.006193         25.38          17.33   \n",
              "1      0.01389              0.003532         24.99          23.41   \n",
              "2      0.02250              0.004571         23.57          25.53   \n",
              "3      0.05963              0.009208         14.91          26.50   \n",
              "4      0.01756              0.005115         22.54          16.67   \n",
              "\n",
              "   perimeter_worst  area_worst  smoothness_worst  compactness_worst  \\\n",
              "0           184.60      2019.0            0.1622             0.6656   \n",
              "1           158.80      1956.0            0.1238             0.1866   \n",
              "2           152.50      1709.0            0.1444             0.4245   \n",
              "3            98.87       567.7            0.2098             0.8663   \n",
              "4           152.20      1575.0            0.1374             0.2050   \n",
              "\n",
              "   concavity_worst  concave points_worst  symmetry_worst  \\\n",
              "0           0.7119                0.2654          0.4601   \n",
              "1           0.2416                0.1860          0.2750   \n",
              "2           0.4504                0.2430          0.3613   \n",
              "3           0.6869                0.2575          0.6638   \n",
              "4           0.4000                0.1625          0.2364   \n",
              "\n",
              "   fractal_dimension_worst  Unnamed: 32  \n",
              "0                  0.11890          NaN  \n",
              "1                  0.08902          NaN  \n",
              "2                  0.08758          NaN  \n",
              "3                  0.17300          NaN  \n",
              "4                  0.07678          NaN  "
            ]
          },
          "metadata": {},
          "execution_count": 6
        }
      ]
    },
    {
      "cell_type": "code",
      "metadata": {
        "colab": {
          "base_uri": "https://localhost:8080/",
          "height": 241
        },
        "id": "26c4B53V0421",
        "outputId": "45d0cf0f-e46d-4230-a204-c2342559e5f5"
      },
      "source": [
        "bc_data.tail()  # Last 5 elements in the Dataset [Row 564 to Row 568]"
      ],
      "execution_count": null,
      "outputs": [
        {
          "output_type": "execute_result",
          "data": {
            "text/html": [
              "<div>\n",
              "<style scoped>\n",
              "    .dataframe tbody tr th:only-of-type {\n",
              "        vertical-align: middle;\n",
              "    }\n",
              "\n",
              "    .dataframe tbody tr th {\n",
              "        vertical-align: top;\n",
              "    }\n",
              "\n",
              "    .dataframe thead th {\n",
              "        text-align: right;\n",
              "    }\n",
              "</style>\n",
              "<table border=\"1\" class=\"dataframe\">\n",
              "  <thead>\n",
              "    <tr style=\"text-align: right;\">\n",
              "      <th></th>\n",
              "      <th>id</th>\n",
              "      <th>diagnosis</th>\n",
              "      <th>radius_mean</th>\n",
              "      <th>texture_mean</th>\n",
              "      <th>perimeter_mean</th>\n",
              "      <th>area_mean</th>\n",
              "      <th>smoothness_mean</th>\n",
              "      <th>compactness_mean</th>\n",
              "      <th>concavity_mean</th>\n",
              "      <th>concave points_mean</th>\n",
              "      <th>symmetry_mean</th>\n",
              "      <th>fractal_dimension_mean</th>\n",
              "      <th>radius_se</th>\n",
              "      <th>texture_se</th>\n",
              "      <th>perimeter_se</th>\n",
              "      <th>area_se</th>\n",
              "      <th>smoothness_se</th>\n",
              "      <th>compactness_se</th>\n",
              "      <th>concavity_se</th>\n",
              "      <th>concave points_se</th>\n",
              "      <th>symmetry_se</th>\n",
              "      <th>fractal_dimension_se</th>\n",
              "      <th>radius_worst</th>\n",
              "      <th>texture_worst</th>\n",
              "      <th>perimeter_worst</th>\n",
              "      <th>area_worst</th>\n",
              "      <th>smoothness_worst</th>\n",
              "      <th>compactness_worst</th>\n",
              "      <th>concavity_worst</th>\n",
              "      <th>concave points_worst</th>\n",
              "      <th>symmetry_worst</th>\n",
              "      <th>fractal_dimension_worst</th>\n",
              "      <th>Unnamed: 32</th>\n",
              "    </tr>\n",
              "  </thead>\n",
              "  <tbody>\n",
              "    <tr>\n",
              "      <th>564</th>\n",
              "      <td>926424</td>\n",
              "      <td>M</td>\n",
              "      <td>21.56</td>\n",
              "      <td>22.39</td>\n",
              "      <td>142.00</td>\n",
              "      <td>1479.0</td>\n",
              "      <td>0.11100</td>\n",
              "      <td>0.11590</td>\n",
              "      <td>0.24390</td>\n",
              "      <td>0.13890</td>\n",
              "      <td>0.1726</td>\n",
              "      <td>0.05623</td>\n",
              "      <td>1.1760</td>\n",
              "      <td>1.256</td>\n",
              "      <td>7.673</td>\n",
              "      <td>158.70</td>\n",
              "      <td>0.010300</td>\n",
              "      <td>0.02891</td>\n",
              "      <td>0.05198</td>\n",
              "      <td>0.02454</td>\n",
              "      <td>0.01114</td>\n",
              "      <td>0.004239</td>\n",
              "      <td>25.450</td>\n",
              "      <td>26.40</td>\n",
              "      <td>166.10</td>\n",
              "      <td>2027.0</td>\n",
              "      <td>0.14100</td>\n",
              "      <td>0.21130</td>\n",
              "      <td>0.4107</td>\n",
              "      <td>0.2216</td>\n",
              "      <td>0.2060</td>\n",
              "      <td>0.07115</td>\n",
              "      <td>NaN</td>\n",
              "    </tr>\n",
              "    <tr>\n",
              "      <th>565</th>\n",
              "      <td>926682</td>\n",
              "      <td>M</td>\n",
              "      <td>20.13</td>\n",
              "      <td>28.25</td>\n",
              "      <td>131.20</td>\n",
              "      <td>1261.0</td>\n",
              "      <td>0.09780</td>\n",
              "      <td>0.10340</td>\n",
              "      <td>0.14400</td>\n",
              "      <td>0.09791</td>\n",
              "      <td>0.1752</td>\n",
              "      <td>0.05533</td>\n",
              "      <td>0.7655</td>\n",
              "      <td>2.463</td>\n",
              "      <td>5.203</td>\n",
              "      <td>99.04</td>\n",
              "      <td>0.005769</td>\n",
              "      <td>0.02423</td>\n",
              "      <td>0.03950</td>\n",
              "      <td>0.01678</td>\n",
              "      <td>0.01898</td>\n",
              "      <td>0.002498</td>\n",
              "      <td>23.690</td>\n",
              "      <td>38.25</td>\n",
              "      <td>155.00</td>\n",
              "      <td>1731.0</td>\n",
              "      <td>0.11660</td>\n",
              "      <td>0.19220</td>\n",
              "      <td>0.3215</td>\n",
              "      <td>0.1628</td>\n",
              "      <td>0.2572</td>\n",
              "      <td>0.06637</td>\n",
              "      <td>NaN</td>\n",
              "    </tr>\n",
              "    <tr>\n",
              "      <th>566</th>\n",
              "      <td>926954</td>\n",
              "      <td>M</td>\n",
              "      <td>16.60</td>\n",
              "      <td>28.08</td>\n",
              "      <td>108.30</td>\n",
              "      <td>858.1</td>\n",
              "      <td>0.08455</td>\n",
              "      <td>0.10230</td>\n",
              "      <td>0.09251</td>\n",
              "      <td>0.05302</td>\n",
              "      <td>0.1590</td>\n",
              "      <td>0.05648</td>\n",
              "      <td>0.4564</td>\n",
              "      <td>1.075</td>\n",
              "      <td>3.425</td>\n",
              "      <td>48.55</td>\n",
              "      <td>0.005903</td>\n",
              "      <td>0.03731</td>\n",
              "      <td>0.04730</td>\n",
              "      <td>0.01557</td>\n",
              "      <td>0.01318</td>\n",
              "      <td>0.003892</td>\n",
              "      <td>18.980</td>\n",
              "      <td>34.12</td>\n",
              "      <td>126.70</td>\n",
              "      <td>1124.0</td>\n",
              "      <td>0.11390</td>\n",
              "      <td>0.30940</td>\n",
              "      <td>0.3403</td>\n",
              "      <td>0.1418</td>\n",
              "      <td>0.2218</td>\n",
              "      <td>0.07820</td>\n",
              "      <td>NaN</td>\n",
              "    </tr>\n",
              "    <tr>\n",
              "      <th>567</th>\n",
              "      <td>927241</td>\n",
              "      <td>M</td>\n",
              "      <td>20.60</td>\n",
              "      <td>29.33</td>\n",
              "      <td>140.10</td>\n",
              "      <td>1265.0</td>\n",
              "      <td>0.11780</td>\n",
              "      <td>0.27700</td>\n",
              "      <td>0.35140</td>\n",
              "      <td>0.15200</td>\n",
              "      <td>0.2397</td>\n",
              "      <td>0.07016</td>\n",
              "      <td>0.7260</td>\n",
              "      <td>1.595</td>\n",
              "      <td>5.772</td>\n",
              "      <td>86.22</td>\n",
              "      <td>0.006522</td>\n",
              "      <td>0.06158</td>\n",
              "      <td>0.07117</td>\n",
              "      <td>0.01664</td>\n",
              "      <td>0.02324</td>\n",
              "      <td>0.006185</td>\n",
              "      <td>25.740</td>\n",
              "      <td>39.42</td>\n",
              "      <td>184.60</td>\n",
              "      <td>1821.0</td>\n",
              "      <td>0.16500</td>\n",
              "      <td>0.86810</td>\n",
              "      <td>0.9387</td>\n",
              "      <td>0.2650</td>\n",
              "      <td>0.4087</td>\n",
              "      <td>0.12400</td>\n",
              "      <td>NaN</td>\n",
              "    </tr>\n",
              "    <tr>\n",
              "      <th>568</th>\n",
              "      <td>92751</td>\n",
              "      <td>B</td>\n",
              "      <td>7.76</td>\n",
              "      <td>24.54</td>\n",
              "      <td>47.92</td>\n",
              "      <td>181.0</td>\n",
              "      <td>0.05263</td>\n",
              "      <td>0.04362</td>\n",
              "      <td>0.00000</td>\n",
              "      <td>0.00000</td>\n",
              "      <td>0.1587</td>\n",
              "      <td>0.05884</td>\n",
              "      <td>0.3857</td>\n",
              "      <td>1.428</td>\n",
              "      <td>2.548</td>\n",
              "      <td>19.15</td>\n",
              "      <td>0.007189</td>\n",
              "      <td>0.00466</td>\n",
              "      <td>0.00000</td>\n",
              "      <td>0.00000</td>\n",
              "      <td>0.02676</td>\n",
              "      <td>0.002783</td>\n",
              "      <td>9.456</td>\n",
              "      <td>30.37</td>\n",
              "      <td>59.16</td>\n",
              "      <td>268.6</td>\n",
              "      <td>0.08996</td>\n",
              "      <td>0.06444</td>\n",
              "      <td>0.0000</td>\n",
              "      <td>0.0000</td>\n",
              "      <td>0.2871</td>\n",
              "      <td>0.07039</td>\n",
              "      <td>NaN</td>\n",
              "    </tr>\n",
              "  </tbody>\n",
              "</table>\n",
              "</div>"
            ],
            "text/plain": [
              "         id diagnosis  radius_mean  texture_mean  perimeter_mean  area_mean  \\\n",
              "564  926424         M        21.56         22.39          142.00     1479.0   \n",
              "565  926682         M        20.13         28.25          131.20     1261.0   \n",
              "566  926954         M        16.60         28.08          108.30      858.1   \n",
              "567  927241         M        20.60         29.33          140.10     1265.0   \n",
              "568   92751         B         7.76         24.54           47.92      181.0   \n",
              "\n",
              "     smoothness_mean  compactness_mean  concavity_mean  concave points_mean  \\\n",
              "564          0.11100           0.11590         0.24390              0.13890   \n",
              "565          0.09780           0.10340         0.14400              0.09791   \n",
              "566          0.08455           0.10230         0.09251              0.05302   \n",
              "567          0.11780           0.27700         0.35140              0.15200   \n",
              "568          0.05263           0.04362         0.00000              0.00000   \n",
              "\n",
              "     symmetry_mean  fractal_dimension_mean  radius_se  texture_se  \\\n",
              "564         0.1726                 0.05623     1.1760       1.256   \n",
              "565         0.1752                 0.05533     0.7655       2.463   \n",
              "566         0.1590                 0.05648     0.4564       1.075   \n",
              "567         0.2397                 0.07016     0.7260       1.595   \n",
              "568         0.1587                 0.05884     0.3857       1.428   \n",
              "\n",
              "     perimeter_se  area_se  smoothness_se  compactness_se  concavity_se  \\\n",
              "564         7.673   158.70       0.010300         0.02891       0.05198   \n",
              "565         5.203    99.04       0.005769         0.02423       0.03950   \n",
              "566         3.425    48.55       0.005903         0.03731       0.04730   \n",
              "567         5.772    86.22       0.006522         0.06158       0.07117   \n",
              "568         2.548    19.15       0.007189         0.00466       0.00000   \n",
              "\n",
              "     concave points_se  symmetry_se  fractal_dimension_se  radius_worst  \\\n",
              "564            0.02454      0.01114              0.004239        25.450   \n",
              "565            0.01678      0.01898              0.002498        23.690   \n",
              "566            0.01557      0.01318              0.003892        18.980   \n",
              "567            0.01664      0.02324              0.006185        25.740   \n",
              "568            0.00000      0.02676              0.002783         9.456   \n",
              "\n",
              "     texture_worst  perimeter_worst  area_worst  smoothness_worst  \\\n",
              "564          26.40           166.10      2027.0           0.14100   \n",
              "565          38.25           155.00      1731.0           0.11660   \n",
              "566          34.12           126.70      1124.0           0.11390   \n",
              "567          39.42           184.60      1821.0           0.16500   \n",
              "568          30.37            59.16       268.6           0.08996   \n",
              "\n",
              "     compactness_worst  concavity_worst  concave points_worst  symmetry_worst  \\\n",
              "564            0.21130           0.4107                0.2216          0.2060   \n",
              "565            0.19220           0.3215                0.1628          0.2572   \n",
              "566            0.30940           0.3403                0.1418          0.2218   \n",
              "567            0.86810           0.9387                0.2650          0.4087   \n",
              "568            0.06444           0.0000                0.0000          0.2871   \n",
              "\n",
              "     fractal_dimension_worst  Unnamed: 32  \n",
              "564                  0.07115          NaN  \n",
              "565                  0.06637          NaN  \n",
              "566                  0.07820          NaN  \n",
              "567                  0.12400          NaN  \n",
              "568                  0.07039          NaN  "
            ]
          },
          "metadata": {},
          "execution_count": 7
        }
      ]
    },
    {
      "cell_type": "markdown",
      "metadata": {
        "id": "3Jmnd0p_6sSf"
      },
      "source": [
        ""
      ]
    },
    {
      "cell_type": "code",
      "metadata": {
        "id": "tDAcnnwb7J4M"
      },
      "source": [
        "# important Step ***\n",
        "bc_data.isna().any() # isna() function for detecting missing values\n",
        "\n",
        "# We found NO missing values"
      ],
      "execution_count": null,
      "outputs": []
    },
    {
      "cell_type": "code",
      "metadata": {
        "id": "y_KI3UiB7OUU"
      },
      "source": [
        "bc_data.isna().sum() # isna(). sum() to returns the number of missing values in each column\n",
        "\n",
        "# Since there are no missing data, thus all the outcomes for this fucntion is Zero (0)"
      ],
      "execution_count": null,
      "outputs": []
    },
    {
      "cell_type": "code",
      "metadata": {
        "id": "Vkm-Np617Qx0"
      },
      "source": [
        "bc_data = bc_data.dropna(axis='columns') #dropna() function to remove rows and columns with Null/NaN values\n",
        "\n",
        "# Since we don't have any NULL/NaN elements then \n",
        "\n",
        "## Raja - Do we need this? Missing Vs. NaN"
      ],
      "execution_count": null,
      "outputs": []
    },
    {
      "cell_type": "code",
      "metadata": {
        "colab": {
          "base_uri": "https://localhost:8080/",
          "height": 173
        },
        "id": "_7IOJfTs7Ww1",
        "outputId": "e8a26d36-8388-4237-f954-d50ddfe710f1"
      },
      "source": [
        "bc_data.describe(include=['O'])"
      ],
      "execution_count": null,
      "outputs": [
        {
          "output_type": "execute_result",
          "data": {
            "text/html": [
              "<div>\n",
              "<style scoped>\n",
              "    .dataframe tbody tr th:only-of-type {\n",
              "        vertical-align: middle;\n",
              "    }\n",
              "\n",
              "    .dataframe tbody tr th {\n",
              "        vertical-align: top;\n",
              "    }\n",
              "\n",
              "    .dataframe thead th {\n",
              "        text-align: right;\n",
              "    }\n",
              "</style>\n",
              "<table border=\"1\" class=\"dataframe\">\n",
              "  <thead>\n",
              "    <tr style=\"text-align: right;\">\n",
              "      <th></th>\n",
              "      <th>diagnosis</th>\n",
              "    </tr>\n",
              "  </thead>\n",
              "  <tbody>\n",
              "    <tr>\n",
              "      <th>count</th>\n",
              "      <td>569</td>\n",
              "    </tr>\n",
              "    <tr>\n",
              "      <th>unique</th>\n",
              "      <td>2</td>\n",
              "    </tr>\n",
              "    <tr>\n",
              "      <th>top</th>\n",
              "      <td>B</td>\n",
              "    </tr>\n",
              "    <tr>\n",
              "      <th>freq</th>\n",
              "      <td>357</td>\n",
              "    </tr>\n",
              "  </tbody>\n",
              "</table>\n",
              "</div>"
            ],
            "text/plain": [
              "       diagnosis\n",
              "count        569\n",
              "unique         2\n",
              "top            B\n",
              "freq         357"
            ]
          },
          "metadata": {},
          "execution_count": 11
        }
      ]
    },
    {
      "cell_type": "code",
      "metadata": {
        "colab": {
          "base_uri": "https://localhost:8080/"
        },
        "id": "3uRmORxY7hpO",
        "outputId": "16e34001-13a4-4dd2-f197-94e262a41b37"
      },
      "source": [
        "bc_data.diagnosis.value_counts() #unique values"
      ],
      "execution_count": null,
      "outputs": [
        {
          "output_type": "execute_result",
          "data": {
            "text/plain": [
              "B    357\n",
              "M    212\n",
              "Name: diagnosis, dtype: int64"
            ]
          },
          "metadata": {},
          "execution_count": 12
        }
      ]
    },
    {
      "cell_type": "markdown",
      "metadata": {
        "id": "I1TLpc4T7vG0"
      },
      "source": [
        "### Identify dependent and independent"
      ]
    },
    {
      "cell_type": "code",
      "metadata": {
        "id": "4v9pzKD-7peM",
        "colab": {
          "base_uri": "https://localhost:8080/",
          "height": 148
        },
        "outputId": "68331ea4-fd25-45cf-8c20-1b183baeccc7"
      },
      "source": [
        "bc_data.head(2)"
      ],
      "execution_count": null,
      "outputs": [
        {
          "output_type": "execute_result",
          "data": {
            "text/html": [
              "<div>\n",
              "<style scoped>\n",
              "    .dataframe tbody tr th:only-of-type {\n",
              "        vertical-align: middle;\n",
              "    }\n",
              "\n",
              "    .dataframe tbody tr th {\n",
              "        vertical-align: top;\n",
              "    }\n",
              "\n",
              "    .dataframe thead th {\n",
              "        text-align: right;\n",
              "    }\n",
              "</style>\n",
              "<table border=\"1\" class=\"dataframe\">\n",
              "  <thead>\n",
              "    <tr style=\"text-align: right;\">\n",
              "      <th></th>\n",
              "      <th>id</th>\n",
              "      <th>diagnosis</th>\n",
              "      <th>radius_mean</th>\n",
              "      <th>texture_mean</th>\n",
              "      <th>perimeter_mean</th>\n",
              "      <th>area_mean</th>\n",
              "      <th>smoothness_mean</th>\n",
              "      <th>compactness_mean</th>\n",
              "      <th>concavity_mean</th>\n",
              "      <th>concave points_mean</th>\n",
              "      <th>symmetry_mean</th>\n",
              "      <th>fractal_dimension_mean</th>\n",
              "      <th>radius_se</th>\n",
              "      <th>texture_se</th>\n",
              "      <th>perimeter_se</th>\n",
              "      <th>area_se</th>\n",
              "      <th>smoothness_se</th>\n",
              "      <th>compactness_se</th>\n",
              "      <th>concavity_se</th>\n",
              "      <th>concave points_se</th>\n",
              "      <th>symmetry_se</th>\n",
              "      <th>fractal_dimension_se</th>\n",
              "      <th>radius_worst</th>\n",
              "      <th>texture_worst</th>\n",
              "      <th>perimeter_worst</th>\n",
              "      <th>area_worst</th>\n",
              "      <th>smoothness_worst</th>\n",
              "      <th>compactness_worst</th>\n",
              "      <th>concavity_worst</th>\n",
              "      <th>concave points_worst</th>\n",
              "      <th>symmetry_worst</th>\n",
              "      <th>fractal_dimension_worst</th>\n",
              "    </tr>\n",
              "  </thead>\n",
              "  <tbody>\n",
              "    <tr>\n",
              "      <th>0</th>\n",
              "      <td>842302</td>\n",
              "      <td>M</td>\n",
              "      <td>17.99</td>\n",
              "      <td>10.38</td>\n",
              "      <td>122.8</td>\n",
              "      <td>1001.0</td>\n",
              "      <td>0.11840</td>\n",
              "      <td>0.27760</td>\n",
              "      <td>0.3001</td>\n",
              "      <td>0.14710</td>\n",
              "      <td>0.2419</td>\n",
              "      <td>0.07871</td>\n",
              "      <td>1.0950</td>\n",
              "      <td>0.9053</td>\n",
              "      <td>8.589</td>\n",
              "      <td>153.40</td>\n",
              "      <td>0.006399</td>\n",
              "      <td>0.04904</td>\n",
              "      <td>0.05373</td>\n",
              "      <td>0.01587</td>\n",
              "      <td>0.03003</td>\n",
              "      <td>0.006193</td>\n",
              "      <td>25.38</td>\n",
              "      <td>17.33</td>\n",
              "      <td>184.6</td>\n",
              "      <td>2019.0</td>\n",
              "      <td>0.1622</td>\n",
              "      <td>0.6656</td>\n",
              "      <td>0.7119</td>\n",
              "      <td>0.2654</td>\n",
              "      <td>0.4601</td>\n",
              "      <td>0.11890</td>\n",
              "    </tr>\n",
              "    <tr>\n",
              "      <th>1</th>\n",
              "      <td>842517</td>\n",
              "      <td>M</td>\n",
              "      <td>20.57</td>\n",
              "      <td>17.77</td>\n",
              "      <td>132.9</td>\n",
              "      <td>1326.0</td>\n",
              "      <td>0.08474</td>\n",
              "      <td>0.07864</td>\n",
              "      <td>0.0869</td>\n",
              "      <td>0.07017</td>\n",
              "      <td>0.1812</td>\n",
              "      <td>0.05667</td>\n",
              "      <td>0.5435</td>\n",
              "      <td>0.7339</td>\n",
              "      <td>3.398</td>\n",
              "      <td>74.08</td>\n",
              "      <td>0.005225</td>\n",
              "      <td>0.01308</td>\n",
              "      <td>0.01860</td>\n",
              "      <td>0.01340</td>\n",
              "      <td>0.01389</td>\n",
              "      <td>0.003532</td>\n",
              "      <td>24.99</td>\n",
              "      <td>23.41</td>\n",
              "      <td>158.8</td>\n",
              "      <td>1956.0</td>\n",
              "      <td>0.1238</td>\n",
              "      <td>0.1866</td>\n",
              "      <td>0.2416</td>\n",
              "      <td>0.1860</td>\n",
              "      <td>0.2750</td>\n",
              "      <td>0.08902</td>\n",
              "    </tr>\n",
              "  </tbody>\n",
              "</table>\n",
              "</div>"
            ],
            "text/plain": [
              "       id diagnosis  radius_mean  texture_mean  perimeter_mean  area_mean  \\\n",
              "0  842302         M        17.99         10.38           122.8     1001.0   \n",
              "1  842517         M        20.57         17.77           132.9     1326.0   \n",
              "\n",
              "   smoothness_mean  compactness_mean  concavity_mean  concave points_mean  \\\n",
              "0          0.11840           0.27760          0.3001              0.14710   \n",
              "1          0.08474           0.07864          0.0869              0.07017   \n",
              "\n",
              "   symmetry_mean  fractal_dimension_mean  radius_se  texture_se  perimeter_se  \\\n",
              "0         0.2419                 0.07871     1.0950      0.9053         8.589   \n",
              "1         0.1812                 0.05667     0.5435      0.7339         3.398   \n",
              "\n",
              "   area_se  smoothness_se  compactness_se  concavity_se  concave points_se  \\\n",
              "0   153.40       0.006399         0.04904       0.05373            0.01587   \n",
              "1    74.08       0.005225         0.01308       0.01860            0.01340   \n",
              "\n",
              "   symmetry_se  fractal_dimension_se  radius_worst  texture_worst  \\\n",
              "0      0.03003              0.006193         25.38          17.33   \n",
              "1      0.01389              0.003532         24.99          23.41   \n",
              "\n",
              "   perimeter_worst  area_worst  smoothness_worst  compactness_worst  \\\n",
              "0            184.6      2019.0            0.1622             0.6656   \n",
              "1            158.8      1956.0            0.1238             0.1866   \n",
              "\n",
              "   concavity_worst  concave points_worst  symmetry_worst  \\\n",
              "0           0.7119                0.2654          0.4601   \n",
              "1           0.2416                0.1860          0.2750   \n",
              "\n",
              "   fractal_dimension_worst  \n",
              "0                  0.11890  \n",
              "1                  0.08902  "
            ]
          },
          "metadata": {},
          "execution_count": 13
        }
      ]
    },
    {
      "cell_type": "code",
      "metadata": {
        "id": "PEdwfZ397wbD"
      },
      "source": [
        "##diagnosis_unique = data.diagnosis.unique()"
      ],
      "execution_count": null,
      "outputs": []
    },
    {
      "cell_type": "code",
      "metadata": {
        "id": "C9doA7Lm71xi"
      },
      "source": [
        "##diagnosis_unique"
      ],
      "execution_count": null,
      "outputs": []
    },
    {
      "cell_type": "markdown",
      "metadata": {
        "id": "dqRSuJii74CC"
      },
      "source": [
        "# 4. VISUALIZATON"
      ]
    },
    {
      "cell_type": "code",
      "metadata": {
        "id": "ZCRmPWye8Azb"
      },
      "source": [
        "import matplotlib.pyplot as plt\n",
        "import seaborn as sns\n",
        "import plotly.express as px\n",
        "import plotly.graph_objects as go\n",
        "\n",
        "%matplotlib inline\n",
        "sns.set_style('darkgrid')"
      ],
      "execution_count": null,
      "outputs": []
    },
    {
      "cell_type": "code",
      "metadata": {
        "id": "nAvHdkyw8Eqr",
        "colab": {
          "base_uri": "https://localhost:8080/",
          "height": 438
        },
        "outputId": "63fa582f-f8ae-42ab-9d20-54a1d1c58d30"
      },
      "source": [
        "plt.figure(figsize=(15, 5))\n",
        "\n",
        "plt.subplot(1, 2, 1)\n",
        "plt.hist(bc_data.diagnosis)\n",
        "# plt.legend()\n",
        "plt.title(\"Counts of Diagnosis\")\n",
        "plt.xlabel(\"Diagnosis\")\n",
        "\n",
        "\n",
        "plt.subplot(1, 2, 2)\n",
        "\n",
        "sns.countplot('diagnosis', data=bc_data); # \";\" to remove output like this > <matplotlib.axes._subplots.AxesSubplot at 0x7f3a1dddba50>\n",
        "\n",
        "# plt.show()"
      ],
      "execution_count": null,
      "outputs": [
        {
          "output_type": "stream",
          "name": "stderr",
          "text": [
            "/usr/local/lib/python3.7/dist-packages/seaborn/_decorators.py:43: FutureWarning:\n",
            "\n",
            "Pass the following variable as a keyword arg: x. From version 0.12, the only valid positional argument will be `data`, and passing other arguments without an explicit keyword will result in an error or misinterpretation.\n",
            "\n"
          ]
        },
        {
          "output_type": "display_data",
          "data": {
            "image/png": "[encoded data removed]",
            "text/plain": [
              "<Figure size 1080x360 with 2 Axes>"
            ]
          },
          "metadata": {}
        }
      ]
    },
    {
      "cell_type": "code",
      "metadata": {
        "colab": {
          "base_uri": "https://localhost:8080/",
          "height": 542
        },
        "id": "WfIbGge18GCS",
        "outputId": "f25858c8-6e89-4131-82ed-df594f58e2a7"
      },
      "source": [
        "# plt.figure(figsize=(7,12))\n",
        "px.histogram(bc_data, x='diagnosis')\n",
        "# plt.show()"
      ],
      "execution_count": null,
      "outputs": [
        {
          "output_type": "display_data",
          "data": {
            "text/html": [
              "<html>\n",
              "<head><meta charset=\"utf-8\" /></head>\n",
              "<body>\n",
              "    <div>\n",
              "            <script src=\"https://cdnjs.cloudflare.com/ajax/libs/mathjax/2.7.5/MathJax.js?config=TeX-AMS-MML_SVG\"></script><script type=\"text/javascript\">if (window.MathJax) {MathJax.Hub.Config({SVG: {font: \"STIX-Web\"}});}</script>\n",
              "                <script type=\"text/javascript\">window.PlotlyConfig = {MathJaxConfig: 'local'};</script>\n",
              "        <script src=\"https://cdn.plot.ly/plotly-latest.min.js\"></script>    \n",
              "            <div id=\"73ddbbaf-72a1-4950-9027-730a2f329aaf\" class=\"plotly-graph-div\" style=\"height:525px; width:100%;\"></div>\n",
              "            <script type=\"text/javascript\">\n",
              "                \n",
              "                    window.PLOTLYENV=window.PLOTLYENV || {};\n",
              "                    \n",
              "                if (document.getElementById(\"73ddbbaf-72a1-4950-9027-730a2f329aaf\")) {\n",
              "                    Plotly.newPlot(\n",
              "                        '73ddbbaf-72a1-4950-9027-730a2f329aaf',\n",
              "                        [{\"alignmentgroup\": \"True\", \"bingroup\": \"x\", \"hoverlabel\": {\"namelength\": 0}, \"hovertemplate\": \"diagnosis=%{x}<br>count=%{y}\", \"legendgroup\": \"\", \"marker\": {\"color\": \"#636efa\"}, \"name\": \"\", \"offsetgroup\": \"\", \"orientation\": \"v\", \"showlegend\": false, \"type\": \"histogram\", \"x\": [\"M\", \"M\", \"M\", \"M\", \"M\", \"M\", \"M\", \"M\", \"M\", \"M\", \"M\", \"M\", \"M\", \"M\", \"M\", \"M\", \"M\", \"M\", \"M\", \"B\", \"B\", \"B\", \"M\", \"M\", \"M\", \"M\", \"M\", \"M\", \"M\", \"M\", \"M\", \"M\", \"M\", \"M\", \"M\", \"M\", \"M\", \"B\", \"M\", \"M\", \"M\", \"M\", \"M\", \"M\", \"M\", \"M\", \"B\", \"M\", \"B\", \"B\", \"B\", \"B\", \"B\", \"M\", \"M\", \"B\", \"M\", \"M\", \"B\", \"B\", \"B\", \"B\", \"M\", \"B\", \"M\", \"M\", \"B\", \"B\", \"B\", \"B\", \"M\", \"B\", \"M\", \"M\", \"B\", \"M\", \"B\", \"M\", \"M\", \"B\", \"B\", \"B\", \"M\", \"M\", \"B\", \"M\", \"M\", \"M\", \"B\", \"B\", \"B\", \"M\", \"B\", \"B\", \"M\", \"M\", \"B\", \"B\", \"B\", \"M\", \"M\", \"B\", \"B\", \"B\", \"B\", \"M\", \"B\", \"B\", \"M\", \"B\", \"B\", \"B\", \"B\", \"B\", \"B\", \"B\", \"B\", \"M\", \"M\", \"M\", \"B\", \"M\", \"M\", \"B\", \"B\", \"B\", \"M\", \"M\", \"B\", \"M\", \"B\", \"M\", \"M\", \"B\", \"M\", \"M\", \"B\", \"B\", \"M\", \"B\", \"B\", \"M\", \"B\", \"B\", \"B\", \"B\", \"M\", \"B\", \"B\", \"B\", \"B\", \"B\", \"B\", \"B\", \"B\", \"B\", \"M\", \"B\", \"B\", \"B\", \"B\", \"M\", \"M\", \"B\", \"M\", \"B\", \"B\", \"M\", \"M\", \"B\", \"B\", \"M\", \"M\", \"B\", \"B\", \"B\", \"B\", \"M\", \"B\", \"B\", \"M\", \"M\", \"M\", \"B\", \"M\", \"B\", \"M\", \"B\", \"B\", \"B\", \"M\", \"B\", \"B\", \"M\", \"M\", \"B\", \"M\", \"M\", \"M\", \"M\", \"B\", \"M\", \"M\", \"M\", \"B\", \"M\", \"B\", \"M\", \"B\", \"B\", \"M\", \"B\", \"M\", \"M\", \"M\", \"M\", \"B\", \"B\", \"M\", \"M\", \"B\", \"B\", \"B\", \"M\", \"B\", \"B\", \"B\", \"B\", \"B\", \"M\", \"M\", \"B\", \"B\", \"M\", \"B\", \"B\", \"M\", \"M\", \"B\", \"M\", \"B\", \"B\", \"B\", \"B\", \"M\", \"B\", \"B\", \"B\", \"B\", \"B\", \"M\", \"B\", \"M\", \"M\", \"M\", \"M\", \"M\", \"M\", \"M\", \"M\", \"M\", \"M\", \"M\", \"M\", \"M\", \"M\", \"B\", \"B\", \"B\", \"B\", \"B\", \"B\", \"M\", \"B\", \"M\", \"B\", \"B\", \"M\", \"B\", \"B\", \"M\", \"B\", \"M\", \"M\", \"B\", \"B\", \"B\", \"B\", \"B\", \"B\", \"B\", \"B\", \"B\", \"B\", \"B\", \"B\", \"B\", \"M\", \"B\", \"B\", \"M\", \"B\", \"M\", \"B\", \"B\", \"B\", \"B\", \"B\", \"B\", \"B\", \"B\", \"B\", \"B\", \"B\", \"B\", \"B\", \"B\", \"M\", \"B\", \"B\", \"B\", \"M\", \"B\", \"M\", \"B\", \"B\", \"B\", \"B\", \"M\", \"M\", \"M\", \"B\", \"B\", \"B\", \"B\", \"M\", \"B\", \"M\", \"B\", \"M\", \"B\", \"B\", \"B\", \"M\", \"B\", \"B\", \"B\", \"B\", \"B\", \"B\", \"B\", \"M\", \"M\", \"M\", \"B\", \"B\", \"B\", \"B\", \"B\", \"B\", \"B\", \"B\", \"B\", \"B\", \"B\", \"M\", \"M\", \"B\", \"M\", \"M\", \"M\", \"B\", \"M\", \"M\", \"B\", \"B\", \"B\", \"B\", \"B\", \"M\", \"B\", \"B\", \"B\", \"B\", \"B\", \"M\", \"B\", \"B\", \"B\", \"M\", \"B\", \"B\", \"M\", \"M\", \"B\", \"B\", \"B\", \"B\", \"B\", \"B\", \"M\", \"B\", \"B\", \"B\", \"B\", \"B\", \"B\", \"B\", \"M\", \"B\", \"B\", \"B\", \"B\", \"B\", \"M\", \"B\", \"B\", \"M\", \"B\", \"B\", \"B\", \"B\", \"B\", \"B\", \"B\", \"B\", \"B\", \"B\", \"B\", \"B\", \"M\", \"B\", \"M\", \"M\", \"B\", \"M\", \"B\", \"B\", \"B\", \"B\", \"B\", \"M\", \"B\", \"B\", \"M\", \"B\", \"M\", \"B\", \"B\", \"M\", \"B\", \"M\", \"B\", \"B\", \"B\", \"B\", \"B\", \"B\", \"B\", \"B\", \"M\", \"M\", \"B\", \"B\", \"B\", \"B\", \"B\", \"B\", \"M\", \"B\", \"B\", \"B\", \"B\", \"B\", \"B\", \"B\", \"B\", \"B\", \"B\", \"M\", \"B\", \"B\", \"B\", \"B\", \"B\", \"B\", \"B\", \"M\", \"B\", \"M\", \"B\", \"B\", \"M\", \"B\", \"B\", \"B\", \"B\", \"B\", \"M\", \"M\", \"B\", \"M\", \"B\", \"M\", \"B\", \"B\", \"B\", \"B\", \"B\", \"M\", \"B\", \"B\", \"M\", \"B\", \"M\", \"B\", \"M\", \"M\", \"B\", \"B\", \"B\", \"M\", \"B\", \"B\", \"B\", \"B\", \"B\", \"B\", \"B\", \"B\", \"B\", \"B\", \"B\", \"M\", \"B\", \"M\", \"M\", \"B\", \"B\", \"B\", \"B\", \"B\", \"B\", \"B\", \"B\", \"B\", \"B\", \"B\", \"B\", \"B\", \"B\", \"B\", \"B\", \"B\", \"B\", \"B\", \"B\", \"B\", \"B\", \"B\", \"B\", \"B\", \"M\", \"M\", \"M\", \"M\", \"M\", \"M\", \"B\"], \"xaxis\": \"x\", \"yaxis\": \"y\"}],\n",
              "                        {\"barmode\": \"relative\", \"legend\": {\"tracegroupgap\": 0}, \"margin\": {\"t\": 60}, \"template\": {\"data\": {\"bar\": [{\"error_x\": {\"color\": \"#2a3f5f\"}, \"error_y\": {\"color\": \"#2a3f5f\"}, \"marker\": {\"line\": {\"color\": \"#E5ECF6\", \"width\": 0.5}}, \"type\": \"bar\"}], \"barpolar\": [{\"marker\": {\"line\": {\"color\": \"#E5ECF6\", \"width\": 0.5}}, \"type\": \"barpolar\"}], \"carpet\": [{\"aaxis\": {\"endlinecolor\": \"#2a3f5f\", \"gridcolor\": \"white\", \"linecolor\": \"white\", \"minorgridcolor\": \"white\", \"startlinecolor\": \"#2a3f5f\"}, \"baxis\": {\"endlinecolor\": \"#2a3f5f\", \"gridcolor\": \"white\", \"linecolor\": \"white\", \"minorgridcolor\": \"white\", \"startlinecolor\": \"#2a3f5f\"}, \"type\": \"carpet\"}], \"choropleth\": [{\"colorbar\": {\"outlinewidth\": 0, \"ticks\": \"\"}, \"type\": \"choropleth\"}], \"contour\": [{\"colorbar\": {\"outlinewidth\": 0, \"ticks\": \"\"}, \"colorscale\": [[0.0, \"#0d0887\"], [0.1111111111111111, \"#46039f\"], [0.2222222222222222, \"#7201a8\"], [0.3333333333333333, \"#9c179e\"], [0.4444444444444444, \"#bd3786\"], [0.5555555555555556, \"#d8576b\"], [0.6666666666666666, \"#ed7953\"], [0.7777777777777778, \"#fb9f3a\"], [0.8888888888888888, \"#fdca26\"], [1.0, \"#f0f921\"]], \"type\": \"contour\"}], \"contourcarpet\": [{\"colorbar\": {\"outlinewidth\": 0, \"ticks\": \"\"}, \"type\": \"contourcarpet\"}], \"heatmap\": [{\"colorbar\": {\"outlinewidth\": 0, \"ticks\": \"\"}, \"colorscale\": [[0.0, \"#0d0887\"], [0.1111111111111111, \"#46039f\"], [0.2222222222222222, \"#7201a8\"], [0.3333333333333333, \"#9c179e\"], [0.4444444444444444, \"#bd3786\"], [0.5555555555555556, \"#d8576b\"], [0.6666666666666666, \"#ed7953\"], [0.7777777777777778, \"#fb9f3a\"], [0.8888888888888888, \"#fdca26\"], [1.0, \"#f0f921\"]], \"type\": \"heatmap\"}], \"heatmapgl\": [{\"colorbar\": {\"outlinewidth\": 0, \"ticks\": \"\"}, \"colorscale\": [[0.0, \"#0d0887\"], [0.1111111111111111, \"#46039f\"], [0.2222222222222222, \"#7201a8\"], [0.3333333333333333, \"#9c179e\"], [0.4444444444444444, \"#bd3786\"], [0.5555555555555556, \"#d8576b\"], [0.6666666666666666, \"#ed7953\"], [0.7777777777777778, \"#fb9f3a\"], [0.8888888888888888, \"#fdca26\"], [1.0, \"#f0f921\"]], \"type\": \"heatmapgl\"}], \"histogram\": [{\"marker\": {\"colorbar\": {\"outlinewidth\": 0, \"ticks\": \"\"}}, \"type\": \"histogram\"}], \"histogram2d\": [{\"colorbar\": {\"outlinewidth\": 0, \"ticks\": \"\"}, \"colorscale\": [[0.0, \"#0d0887\"], [0.1111111111111111, \"#46039f\"], [0.2222222222222222, \"#7201a8\"], [0.3333333333333333, \"#9c179e\"], [0.4444444444444444, \"#bd3786\"], [0.5555555555555556, \"#d8576b\"], [0.6666666666666666, \"#ed7953\"], [0.7777777777777778, \"#fb9f3a\"], [0.8888888888888888, \"#fdca26\"], [1.0, \"#f0f921\"]], \"type\": \"histogram2d\"}], \"histogram2dcontour\": [{\"colorbar\": {\"outlinewidth\": 0, \"ticks\": \"\"}, \"colorscale\": [[0.0, \"#0d0887\"], [0.1111111111111111, \"#46039f\"], [0.2222222222222222, \"#7201a8\"], [0.3333333333333333, \"#9c179e\"], [0.4444444444444444, \"#bd3786\"], [0.5555555555555556, \"#d8576b\"], [0.6666666666666666, \"#ed7953\"], [0.7777777777777778, \"#fb9f3a\"], [0.8888888888888888, \"#fdca26\"], [1.0, \"#f0f921\"]], \"type\": \"histogram2dcontour\"}], \"mesh3d\": [{\"colorbar\": {\"outlinewidth\": 0, \"ticks\": \"\"}, \"type\": \"mesh3d\"}], \"parcoords\": [{\"line\": {\"colorbar\": {\"outlinewidth\": 0, \"ticks\": \"\"}}, \"type\": \"parcoords\"}], \"pie\": [{\"automargin\": true, \"type\": \"pie\"}], \"scatter\": [{\"marker\": {\"colorbar\": {\"outlinewidth\": 0, \"ticks\": \"\"}}, \"type\": \"scatter\"}], \"scatter3d\": [{\"line\": {\"colorbar\": {\"outlinewidth\": 0, \"ticks\": \"\"}}, \"marker\": {\"colorbar\": {\"outlinewidth\": 0, \"ticks\": \"\"}}, \"type\": \"scatter3d\"}], \"scattercarpet\": [{\"marker\": {\"colorbar\": {\"outlinewidth\": 0, \"ticks\": \"\"}}, \"type\": \"scattercarpet\"}], \"scattergeo\": [{\"marker\": {\"colorbar\": {\"outlinewidth\": 0, \"ticks\": \"\"}}, \"type\": \"scattergeo\"}], \"scattergl\": [{\"marker\": {\"colorbar\": {\"outlinewidth\": 0, \"ticks\": \"\"}}, \"type\": \"scattergl\"}], \"scattermapbox\": [{\"marker\": {\"colorbar\": {\"outlinewidth\": 0, \"ticks\": \"\"}}, \"type\": \"scattermapbox\"}], \"scatterpolar\": [{\"marker\": {\"colorbar\": {\"outlinewidth\": 0, \"ticks\": \"\"}}, \"type\": \"scatterpolar\"}], \"scatterpolargl\": [{\"marker\": {\"colorbar\": {\"outlinewidth\": 0, \"ticks\": \"\"}}, \"type\": \"scatterpolargl\"}], \"scatterternary\": [{\"marker\": {\"colorbar\": {\"outlinewidth\": 0, \"ticks\": \"\"}}, \"type\": \"scatterternary\"}], \"surface\": [{\"colorbar\": {\"outlinewidth\": 0, \"ticks\": \"\"}, \"colorscale\": [[0.0, \"#0d0887\"], [0.1111111111111111, \"#46039f\"], [0.2222222222222222, \"#7201a8\"], [0.3333333333333333, \"#9c179e\"], [0.4444444444444444, \"#bd3786\"], [0.5555555555555556, \"#d8576b\"], [0.6666666666666666, \"#ed7953\"], [0.7777777777777778, \"#fb9f3a\"], [0.8888888888888888, \"#fdca26\"], [1.0, \"#f0f921\"]], \"type\": \"surface\"}], \"table\": [{\"cells\": {\"fill\": {\"color\": \"#EBF0F8\"}, \"line\": {\"color\": \"white\"}}, \"header\": {\"fill\": {\"color\": \"#C8D4E3\"}, \"line\": {\"color\": \"white\"}}, \"type\": \"table\"}]}, \"layout\": {\"annotationdefaults\": {\"arrowcolor\": \"#2a3f5f\", \"arrowhead\": 0, \"arrowwidth\": 1}, \"coloraxis\": {\"colorbar\": {\"outlinewidth\": 0, \"ticks\": \"\"}}, \"colorscale\": {\"diverging\": [[0, \"#8e0152\"], [0.1, \"#c51b7d\"], [0.2, \"#de77ae\"], [0.3, \"#f1b6da\"], [0.4, \"#fde0ef\"], [0.5, \"#f7f7f7\"], [0.6, \"#e6f5d0\"], [0.7, \"#b8e186\"], [0.8, \"#7fbc41\"], [0.9, \"#4d9221\"], [1, \"#276419\"]], \"sequential\": [[0.0, \"#0d0887\"], [0.1111111111111111, \"#46039f\"], [0.2222222222222222, \"#7201a8\"], [0.3333333333333333, \"#9c179e\"], [0.4444444444444444, \"#bd3786\"], [0.5555555555555556, \"#d8576b\"], [0.6666666666666666, \"#ed7953\"], [0.7777777777777778, \"#fb9f3a\"], [0.8888888888888888, \"#fdca26\"], [1.0, \"#f0f921\"]], \"sequentialminus\": [[0.0, \"#0d0887\"], [0.1111111111111111, \"#46039f\"], [0.2222222222222222, \"#7201a8\"], [0.3333333333333333, \"#9c179e\"], [0.4444444444444444, \"#bd3786\"], [0.5555555555555556, \"#d8576b\"], [0.6666666666666666, \"#ed7953\"], [0.7777777777777778, \"#fb9f3a\"], [0.8888888888888888, \"#fdca26\"], [1.0, \"#f0f921\"]]}, \"colorway\": [\"#636efa\", \"#EF553B\", \"#00cc96\", \"#ab63fa\", \"#FFA15A\", \"#19d3f3\", \"#FF6692\", \"#B6E880\", \"#FF97FF\", \"#FECB52\"], \"font\": {\"color\": \"#2a3f5f\"}, \"geo\": {\"bgcolor\": \"white\", \"lakecolor\": \"white\", \"landcolor\": \"#E5ECF6\", \"showlakes\": true, \"showland\": true, \"subunitcolor\": \"white\"}, \"hoverlabel\": {\"align\": \"left\"}, \"hovermode\": \"closest\", \"mapbox\": {\"style\": \"light\"}, \"paper_bgcolor\": \"white\", \"plot_bgcolor\": \"#E5ECF6\", \"polar\": {\"angularaxis\": {\"gridcolor\": \"white\", \"linecolor\": \"white\", \"ticks\": \"\"}, \"bgcolor\": \"#E5ECF6\", \"radialaxis\": {\"gridcolor\": \"white\", \"linecolor\": \"white\", \"ticks\": \"\"}}, \"scene\": {\"xaxis\": {\"backgroundcolor\": \"#E5ECF6\", \"gridcolor\": \"white\", \"gridwidth\": 2, \"linecolor\": \"white\", \"showbackground\": true, \"ticks\": \"\", \"zerolinecolor\": \"white\"}, \"yaxis\": {\"backgroundcolor\": \"#E5ECF6\", \"gridcolor\": \"white\", \"gridwidth\": 2, \"linecolor\": \"white\", \"showbackground\": true, \"ticks\": \"\", \"zerolinecolor\": \"white\"}, \"zaxis\": {\"backgroundcolor\": \"#E5ECF6\", \"gridcolor\": \"white\", \"gridwidth\": 2, \"linecolor\": \"white\", \"showbackground\": true, \"ticks\": \"\", \"zerolinecolor\": \"white\"}}, \"shapedefaults\": {\"line\": {\"color\": \"#2a3f5f\"}}, \"ternary\": {\"aaxis\": {\"gridcolor\": \"white\", \"linecolor\": \"white\", \"ticks\": \"\"}, \"baxis\": {\"gridcolor\": \"white\", \"linecolor\": \"white\", \"ticks\": \"\"}, \"bgcolor\": \"#E5ECF6\", \"caxis\": {\"gridcolor\": \"white\", \"linecolor\": \"white\", \"ticks\": \"\"}}, \"title\": {\"x\": 0.05}, \"xaxis\": {\"automargin\": true, \"gridcolor\": \"white\", \"linecolor\": \"white\", \"ticks\": \"\", \"title\": {\"standoff\": 15}, \"zerolinecolor\": \"white\", \"zerolinewidth\": 2}, \"yaxis\": {\"automargin\": true, \"gridcolor\": \"white\", \"linecolor\": \"white\", \"ticks\": \"\", \"title\": {\"standoff\": 15}, \"zerolinecolor\": \"white\", \"zerolinewidth\": 2}}}, \"xaxis\": {\"anchor\": \"y\", \"domain\": [0.0, 1.0], \"title\": {\"text\": \"diagnosis\"}}, \"yaxis\": {\"anchor\": \"x\", \"domain\": [0.0, 1.0], \"title\": {\"text\": \"count\"}}},\n",
              "                        {\"responsive\": true}\n",
              "                    ).then(function(){\n",
              "                            \n",
              "var gd = document.getElementById('73ddbbaf-72a1-4950-9027-730a2f329aaf');\n",
              "var x = new MutationObserver(function (mutations, observer) {{\n",
              "        var display = window.getComputedStyle(gd).display;\n",
              "        if (!display || display === 'none') {{\n",
              "            console.log([gd, 'removed!']);\n",
              "            Plotly.purge(gd);\n",
              "            observer.disconnect();\n",
              "        }}\n",
              "}});\n",
              "\n",
              "// Listen for the removal of the full notebook cells\n",
              "var notebookContainer = gd.closest('#notebook-container');\n",
              "if (notebookContainer) {{\n",
              "    x.observe(notebookContainer, {childList: true});\n",
              "}}\n",
              "\n",
              "// Listen for the clearing of the current output cell\n",
              "var outputEl = gd.closest('.output');\n",
              "if (outputEl) {{\n",
              "    x.observe(outputEl, {childList: true});\n",
              "}}\n",
              "\n",
              "                        })\n",
              "                };\n",
              "                \n",
              "            </script>\n",
              "        </div>\n",
              "</body>\n",
              "</html>"
            ]
          },
          "metadata": {}
        }
      ]
    },
    {
      "cell_type": "code",
      "metadata": {
        "colab": {
          "base_uri": "https://localhost:8080/",
          "height": 726
        },
        "id": "nOvI0Vl58OMa",
        "outputId": "34f23d47-8d0e-43ef-cb2a-ac1bb83ed8f2"
      },
      "source": [
        "cols = [\"diagnosis\", \"radius_mean\", \"texture_mean\", \"perimeter_mean\", \"area_mean\"]\n",
        "\n",
        "sns.pairplot(bc_data[cols], hue=\"diagnosis\")\n",
        "plt.show()"
      ],
      "execution_count": null,
      "outputs": [
        {
          "output_type": "display_data",
          "data": {
            "image/png": "[encoded data removed]",
            "text/plain": [
              "<Figure size 775.5x720 with 20 Axes>"
            ]
          },
          "metadata": {}
        }
      ]
    },
    {
      "cell_type": "code",
      "metadata": {
        "id": "bw8X27QT8TAi",
        "colab": {
          "base_uri": "https://localhost:8080/",
          "height": 279
        },
        "outputId": "508c8753-289a-4d9b-f985-eacaceecc19c"
      },
      "source": [
        "size = len(bc_data['texture_mean'])\n",
        "\n",
        "area = np.pi * (15 * np.random.rand( size ))**2\n",
        "colors = np.random.rand( size )\n",
        "\n",
        "plt.xlabel(\"texture mean\")\n",
        "plt.ylabel(\"radius mean\") \n",
        "plt.scatter(bc_data['texture_mean'], bc_data['radius_mean'], s=area, c=colors, alpha=0.5);"
      ],
      "execution_count": null,
      "outputs": [
        {
          "output_type": "display_data",
          "data": {
            "image/png": "[encoded data removed]",
            "text/plain": [
              "<Figure size 432x288 with 1 Axes>"
            ]
          },
          "metadata": {}
        }
      ]
    },
    {
      "cell_type": "markdown",
      "metadata": {
        "id": "YHqEtWoo8Vva"
      },
      "source": [
        "## Data Segregation"
      ]
    },
    {
      "cell_type": "code",
      "metadata": {
        "id": "qiBOGVFb8ZQR"
      },
      "source": [
        "from sklearn.preprocessing import LabelEncoder"
      ],
      "execution_count": null,
      "outputs": []
    },
    {
      "cell_type": "code",
      "metadata": {
        "colab": {
          "base_uri": "https://localhost:8080/",
          "height": 148
        },
        "id": "1znOjhZY8cY5",
        "outputId": "bd02b0d7-d08c-4846-e39f-0d56d37ef535"
      },
      "source": [
        "bc_data.head(2)"
      ],
      "execution_count": null,
      "outputs": [
        {
          "output_type": "execute_result",
          "data": {
            "text/html": [
              "<div>\n",
              "<style scoped>\n",
              "    .dataframe tbody tr th:only-of-type {\n",
              "        vertical-align: middle;\n",
              "    }\n",
              "\n",
              "    .dataframe tbody tr th {\n",
              "        vertical-align: top;\n",
              "    }\n",
              "\n",
              "    .dataframe thead th {\n",
              "        text-align: right;\n",
              "    }\n",
              "</style>\n",
              "<table border=\"1\" class=\"dataframe\">\n",
              "  <thead>\n",
              "    <tr style=\"text-align: right;\">\n",
              "      <th></th>\n",
              "      <th>id</th>\n",
              "      <th>diagnosis</th>\n",
              "      <th>radius_mean</th>\n",
              "      <th>texture_mean</th>\n",
              "      <th>perimeter_mean</th>\n",
              "      <th>area_mean</th>\n",
              "      <th>smoothness_mean</th>\n",
              "      <th>compactness_mean</th>\n",
              "      <th>concavity_mean</th>\n",
              "      <th>concave points_mean</th>\n",
              "      <th>symmetry_mean</th>\n",
              "      <th>fractal_dimension_mean</th>\n",
              "      <th>radius_se</th>\n",
              "      <th>texture_se</th>\n",
              "      <th>perimeter_se</th>\n",
              "      <th>area_se</th>\n",
              "      <th>smoothness_se</th>\n",
              "      <th>compactness_se</th>\n",
              "      <th>concavity_se</th>\n",
              "      <th>concave points_se</th>\n",
              "      <th>symmetry_se</th>\n",
              "      <th>fractal_dimension_se</th>\n",
              "      <th>radius_worst</th>\n",
              "      <th>texture_worst</th>\n",
              "      <th>perimeter_worst</th>\n",
              "      <th>area_worst</th>\n",
              "      <th>smoothness_worst</th>\n",
              "      <th>compactness_worst</th>\n",
              "      <th>concavity_worst</th>\n",
              "      <th>concave points_worst</th>\n",
              "      <th>symmetry_worst</th>\n",
              "      <th>fractal_dimension_worst</th>\n",
              "    </tr>\n",
              "  </thead>\n",
              "  <tbody>\n",
              "    <tr>\n",
              "      <th>0</th>\n",
              "      <td>842302</td>\n",
              "      <td>M</td>\n",
              "      <td>17.99</td>\n",
              "      <td>10.38</td>\n",
              "      <td>122.8</td>\n",
              "      <td>1001.0</td>\n",
              "      <td>0.11840</td>\n",
              "      <td>0.27760</td>\n",
              "      <td>0.3001</td>\n",
              "      <td>0.14710</td>\n",
              "      <td>0.2419</td>\n",
              "      <td>0.07871</td>\n",
              "      <td>1.0950</td>\n",
              "      <td>0.9053</td>\n",
              "      <td>8.589</td>\n",
              "      <td>153.40</td>\n",
              "      <td>0.006399</td>\n",
              "      <td>0.04904</td>\n",
              "      <td>0.05373</td>\n",
              "      <td>0.01587</td>\n",
              "      <td>0.03003</td>\n",
              "      <td>0.006193</td>\n",
              "      <td>25.38</td>\n",
              "      <td>17.33</td>\n",
              "      <td>184.6</td>\n",
              "      <td>2019.0</td>\n",
              "      <td>0.1622</td>\n",
              "      <td>0.6656</td>\n",
              "      <td>0.7119</td>\n",
              "      <td>0.2654</td>\n",
              "      <td>0.4601</td>\n",
              "      <td>0.11890</td>\n",
              "    </tr>\n",
              "    <tr>\n",
              "      <th>1</th>\n",
              "      <td>842517</td>\n",
              "      <td>M</td>\n",
              "      <td>20.57</td>\n",
              "      <td>17.77</td>\n",
              "      <td>132.9</td>\n",
              "      <td>1326.0</td>\n",
              "      <td>0.08474</td>\n",
              "      <td>0.07864</td>\n",
              "      <td>0.0869</td>\n",
              "      <td>0.07017</td>\n",
              "      <td>0.1812</td>\n",
              "      <td>0.05667</td>\n",
              "      <td>0.5435</td>\n",
              "      <td>0.7339</td>\n",
              "      <td>3.398</td>\n",
              "      <td>74.08</td>\n",
              "      <td>0.005225</td>\n",
              "      <td>0.01308</td>\n",
              "      <td>0.01860</td>\n",
              "      <td>0.01340</td>\n",
              "      <td>0.01389</td>\n",
              "      <td>0.003532</td>\n",
              "      <td>24.99</td>\n",
              "      <td>23.41</td>\n",
              "      <td>158.8</td>\n",
              "      <td>1956.0</td>\n",
              "      <td>0.1238</td>\n",
              "      <td>0.1866</td>\n",
              "      <td>0.2416</td>\n",
              "      <td>0.1860</td>\n",
              "      <td>0.2750</td>\n",
              "      <td>0.08902</td>\n",
              "    </tr>\n",
              "  </tbody>\n",
              "</table>\n",
              "</div>"
            ],
            "text/plain": [
              "       id diagnosis  radius_mean  texture_mean  perimeter_mean  area_mean  \\\n",
              "0  842302         M        17.99         10.38           122.8     1001.0   \n",
              "1  842517         M        20.57         17.77           132.9     1326.0   \n",
              "\n",
              "   smoothness_mean  compactness_mean  concavity_mean  concave points_mean  \\\n",
              "0          0.11840           0.27760          0.3001              0.14710   \n",
              "1          0.08474           0.07864          0.0869              0.07017   \n",
              "\n",
              "   symmetry_mean  fractal_dimension_mean  radius_se  texture_se  perimeter_se  \\\n",
              "0         0.2419                 0.07871     1.0950      0.9053         8.589   \n",
              "1         0.1812                 0.05667     0.5435      0.7339         3.398   \n",
              "\n",
              "   area_se  smoothness_se  compactness_se  concavity_se  concave points_se  \\\n",
              "0   153.40       0.006399         0.04904       0.05373            0.01587   \n",
              "1    74.08       0.005225         0.01308       0.01860            0.01340   \n",
              "\n",
              "   symmetry_se  fractal_dimension_se  radius_worst  texture_worst  \\\n",
              "0      0.03003              0.006193         25.38          17.33   \n",
              "1      0.01389              0.003532         24.99          23.41   \n",
              "\n",
              "   perimeter_worst  area_worst  smoothness_worst  compactness_worst  \\\n",
              "0            184.6      2019.0            0.1622             0.6656   \n",
              "1            158.8      1956.0            0.1238             0.1866   \n",
              "\n",
              "   concavity_worst  concave points_worst  symmetry_worst  \\\n",
              "0           0.7119                0.2654          0.4601   \n",
              "1           0.2416                0.1860          0.2750   \n",
              "\n",
              "   fractal_dimension_worst  \n",
              "0                  0.11890  \n",
              "1                  0.08902  "
            ]
          },
          "metadata": {},
          "execution_count": 22
        }
      ]
    },
    {
      "cell_type": "markdown",
      "metadata": {
        "id": "ExErpqjmxgBC"
      },
      "source": [
        "## \n",
        "\n",
        "1. Creating one hot vectore for the diagnosis variable"
      ]
    },
    {
      "cell_type": "code",
      "metadata": {
        "id": "3SVcvwQP8epR"
      },
      "source": [
        "labelencoder_Y = LabelEncoder()\n",
        "bc_data.diagnosis = labelencoder_Y.fit_transform(bc_data.diagnosis)"
      ],
      "execution_count": null,
      "outputs": []
    },
    {
      "cell_type": "code",
      "metadata": {
        "colab": {
          "base_uri": "https://localhost:8080/",
          "height": 148
        },
        "id": "57EpWdfo8iby",
        "outputId": "970ec1bb-bfe4-4270-be0f-9dfd12e1ebb6"
      },
      "source": [
        "bc_data.head(2)"
      ],
      "execution_count": null,
      "outputs": [
        {
          "output_type": "execute_result",
          "data": {
            "text/html": [
              "<div>\n",
              "<style scoped>\n",
              "    .dataframe tbody tr th:only-of-type {\n",
              "        vertical-align: middle;\n",
              "    }\n",
              "\n",
              "    .dataframe tbody tr th {\n",
              "        vertical-align: top;\n",
              "    }\n",
              "\n",
              "    .dataframe thead th {\n",
              "        text-align: right;\n",
              "    }\n",
              "</style>\n",
              "<table border=\"1\" class=\"dataframe\">\n",
              "  <thead>\n",
              "    <tr style=\"text-align: right;\">\n",
              "      <th></th>\n",
              "      <th>id</th>\n",
              "      <th>diagnosis</th>\n",
              "      <th>radius_mean</th>\n",
              "      <th>texture_mean</th>\n",
              "      <th>perimeter_mean</th>\n",
              "      <th>area_mean</th>\n",
              "      <th>smoothness_mean</th>\n",
              "      <th>compactness_mean</th>\n",
              "      <th>concavity_mean</th>\n",
              "      <th>concave points_mean</th>\n",
              "      <th>symmetry_mean</th>\n",
              "      <th>fractal_dimension_mean</th>\n",
              "      <th>radius_se</th>\n",
              "      <th>texture_se</th>\n",
              "      <th>perimeter_se</th>\n",
              "      <th>area_se</th>\n",
              "      <th>smoothness_se</th>\n",
              "      <th>compactness_se</th>\n",
              "      <th>concavity_se</th>\n",
              "      <th>concave points_se</th>\n",
              "      <th>symmetry_se</th>\n",
              "      <th>fractal_dimension_se</th>\n",
              "      <th>radius_worst</th>\n",
              "      <th>texture_worst</th>\n",
              "      <th>perimeter_worst</th>\n",
              "      <th>area_worst</th>\n",
              "      <th>smoothness_worst</th>\n",
              "      <th>compactness_worst</th>\n",
              "      <th>concavity_worst</th>\n",
              "      <th>concave points_worst</th>\n",
              "      <th>symmetry_worst</th>\n",
              "      <th>fractal_dimension_worst</th>\n",
              "    </tr>\n",
              "  </thead>\n",
              "  <tbody>\n",
              "    <tr>\n",
              "      <th>0</th>\n",
              "      <td>842302</td>\n",
              "      <td>1</td>\n",
              "      <td>17.99</td>\n",
              "      <td>10.38</td>\n",
              "      <td>122.8</td>\n",
              "      <td>1001.0</td>\n",
              "      <td>0.11840</td>\n",
              "      <td>0.27760</td>\n",
              "      <td>0.3001</td>\n",
              "      <td>0.14710</td>\n",
              "      <td>0.2419</td>\n",
              "      <td>0.07871</td>\n",
              "      <td>1.0950</td>\n",
              "      <td>0.9053</td>\n",
              "      <td>8.589</td>\n",
              "      <td>153.40</td>\n",
              "      <td>0.006399</td>\n",
              "      <td>0.04904</td>\n",
              "      <td>0.05373</td>\n",
              "      <td>0.01587</td>\n",
              "      <td>0.03003</td>\n",
              "      <td>0.006193</td>\n",
              "      <td>25.38</td>\n",
              "      <td>17.33</td>\n",
              "      <td>184.6</td>\n",
              "      <td>2019.0</td>\n",
              "      <td>0.1622</td>\n",
              "      <td>0.6656</td>\n",
              "      <td>0.7119</td>\n",
              "      <td>0.2654</td>\n",
              "      <td>0.4601</td>\n",
              "      <td>0.11890</td>\n",
              "    </tr>\n",
              "    <tr>\n",
              "      <th>1</th>\n",
              "      <td>842517</td>\n",
              "      <td>1</td>\n",
              "      <td>20.57</td>\n",
              "      <td>17.77</td>\n",
              "      <td>132.9</td>\n",
              "      <td>1326.0</td>\n",
              "      <td>0.08474</td>\n",
              "      <td>0.07864</td>\n",
              "      <td>0.0869</td>\n",
              "      <td>0.07017</td>\n",
              "      <td>0.1812</td>\n",
              "      <td>0.05667</td>\n",
              "      <td>0.5435</td>\n",
              "      <td>0.7339</td>\n",
              "      <td>3.398</td>\n",
              "      <td>74.08</td>\n",
              "      <td>0.005225</td>\n",
              "      <td>0.01308</td>\n",
              "      <td>0.01860</td>\n",
              "      <td>0.01340</td>\n",
              "      <td>0.01389</td>\n",
              "      <td>0.003532</td>\n",
              "      <td>24.99</td>\n",
              "      <td>23.41</td>\n",
              "      <td>158.8</td>\n",
              "      <td>1956.0</td>\n",
              "      <td>0.1238</td>\n",
              "      <td>0.1866</td>\n",
              "      <td>0.2416</td>\n",
              "      <td>0.1860</td>\n",
              "      <td>0.2750</td>\n",
              "      <td>0.08902</td>\n",
              "    </tr>\n",
              "  </tbody>\n",
              "</table>\n",
              "</div>"
            ],
            "text/plain": [
              "       id  diagnosis  radius_mean  texture_mean  perimeter_mean  area_mean  \\\n",
              "0  842302          1        17.99         10.38           122.8     1001.0   \n",
              "1  842517          1        20.57         17.77           132.9     1326.0   \n",
              "\n",
              "   smoothness_mean  compactness_mean  concavity_mean  concave points_mean  \\\n",
              "0          0.11840           0.27760          0.3001              0.14710   \n",
              "1          0.08474           0.07864          0.0869              0.07017   \n",
              "\n",
              "   symmetry_mean  fractal_dimension_mean  radius_se  texture_se  perimeter_se  \\\n",
              "0         0.2419                 0.07871     1.0950      0.9053         8.589   \n",
              "1         0.1812                 0.05667     0.5435      0.7339         3.398   \n",
              "\n",
              "   area_se  smoothness_se  compactness_se  concavity_se  concave points_se  \\\n",
              "0   153.40       0.006399         0.04904       0.05373            0.01587   \n",
              "1    74.08       0.005225         0.01308       0.01860            0.01340   \n",
              "\n",
              "   symmetry_se  fractal_dimension_se  radius_worst  texture_worst  \\\n",
              "0      0.03003              0.006193         25.38          17.33   \n",
              "1      0.01389              0.003532         24.99          23.41   \n",
              "\n",
              "   perimeter_worst  area_worst  smoothness_worst  compactness_worst  \\\n",
              "0            184.6      2019.0            0.1622             0.6656   \n",
              "1            158.8      1956.0            0.1238             0.1866   \n",
              "\n",
              "   concavity_worst  concave points_worst  symmetry_worst  \\\n",
              "0           0.7119                0.2654          0.4601   \n",
              "1           0.2416                0.1860          0.2750   \n",
              "\n",
              "   fractal_dimension_worst  \n",
              "0                  0.11890  \n",
              "1                  0.08902  "
            ]
          },
          "metadata": {},
          "execution_count": 24
        }
      ]
    },
    {
      "cell_type": "code",
      "metadata": {
        "colab": {
          "base_uri": "https://localhost:8080/"
        },
        "id": "pPTu6vl88kew",
        "outputId": "7ba26915-8f3e-4ca9-ea9c-1c3e3400f222"
      },
      "source": [
        "print(bc_data.diagnosis.value_counts())\n",
        "print(\"\\n\", bc_data.diagnosis.value_counts().sum())"
      ],
      "execution_count": null,
      "outputs": [
        {
          "output_type": "stream",
          "name": "stdout",
          "text": [
            "0    357\n",
            "1    212\n",
            "Name: diagnosis, dtype: int64\n",
            "\n",
            " 569\n"
          ]
        }
      ]
    },
    {
      "cell_type": "code",
      "metadata": {
        "colab": {
          "base_uri": "https://localhost:8080/",
          "height": 444
        },
        "id": "6QlpV8Xc8lkz",
        "outputId": "8a5c1d24-c38c-4b20-9ce8-fa63cc822de1"
      },
      "source": [
        "cols = ['diagnosis', 'radius_mean', 'texture_mean', 'perimeter_mean',\n",
        "       'area_mean', 'smoothness_mean', 'compactness_mean', 'concavity_mean',\n",
        "       'concave points_mean', 'symmetry_mean', 'fractal_dimension_mean']\n",
        "print(len(cols))\n",
        "bc_data[cols].corr()"
      ],
      "execution_count": null,
      "outputs": [
        {
          "output_type": "stream",
          "name": "stdout",
          "text": [
            "11\n"
          ]
        },
        {
          "output_type": "execute_result",
          "data": {
            "text/html": [
              "<div>\n",
              "<style scoped>\n",
              "    .dataframe tbody tr th:only-of-type {\n",
              "        vertical-align: middle;\n",
              "    }\n",
              "\n",
              "    .dataframe tbody tr th {\n",
              "        vertical-align: top;\n",
              "    }\n",
              "\n",
              "    .dataframe thead th {\n",
              "        text-align: right;\n",
              "    }\n",
              "</style>\n",
              "<table border=\"1\" class=\"dataframe\">\n",
              "  <thead>\n",
              "    <tr style=\"text-align: right;\">\n",
              "      <th></th>\n",
              "      <th>diagnosis</th>\n",
              "      <th>radius_mean</th>\n",
              "      <th>texture_mean</th>\n",
              "      <th>perimeter_mean</th>\n",
              "      <th>area_mean</th>\n",
              "      <th>smoothness_mean</th>\n",
              "      <th>compactness_mean</th>\n",
              "      <th>concavity_mean</th>\n",
              "      <th>concave points_mean</th>\n",
              "      <th>symmetry_mean</th>\n",
              "      <th>fractal_dimension_mean</th>\n",
              "    </tr>\n",
              "  </thead>\n",
              "  <tbody>\n",
              "    <tr>\n",
              "      <th>diagnosis</th>\n",
              "      <td>1.000000</td>\n",
              "      <td>0.730029</td>\n",
              "      <td>0.415185</td>\n",
              "      <td>0.742636</td>\n",
              "      <td>0.708984</td>\n",
              "      <td>0.358560</td>\n",
              "      <td>0.596534</td>\n",
              "      <td>0.696360</td>\n",
              "      <td>0.776614</td>\n",
              "      <td>0.330499</td>\n",
              "      <td>-0.012838</td>\n",
              "    </tr>\n",
              "    <tr>\n",
              "      <th>radius_mean</th>\n",
              "      <td>0.730029</td>\n",
              "      <td>1.000000</td>\n",
              "      <td>0.323782</td>\n",
              "      <td>0.997855</td>\n",
              "      <td>0.987357</td>\n",
              "      <td>0.170581</td>\n",
              "      <td>0.506124</td>\n",
              "      <td>0.676764</td>\n",
              "      <td>0.822529</td>\n",
              "      <td>0.147741</td>\n",
              "      <td>-0.311631</td>\n",
              "    </tr>\n",
              "    <tr>\n",
              "      <th>texture_mean</th>\n",
              "      <td>0.415185</td>\n",
              "      <td>0.323782</td>\n",
              "      <td>1.000000</td>\n",
              "      <td>0.329533</td>\n",
              "      <td>0.321086</td>\n",
              "      <td>-0.023389</td>\n",
              "      <td>0.236702</td>\n",
              "      <td>0.302418</td>\n",
              "      <td>0.293464</td>\n",
              "      <td>0.071401</td>\n",
              "      <td>-0.076437</td>\n",
              "    </tr>\n",
              "    <tr>\n",
              "      <th>perimeter_mean</th>\n",
              "      <td>0.742636</td>\n",
              "      <td>0.997855</td>\n",
              "      <td>0.329533</td>\n",
              "      <td>1.000000</td>\n",
              "      <td>0.986507</td>\n",
              "      <td>0.207278</td>\n",
              "      <td>0.556936</td>\n",
              "      <td>0.716136</td>\n",
              "      <td>0.850977</td>\n",
              "      <td>0.183027</td>\n",
              "      <td>-0.261477</td>\n",
              "    </tr>\n",
              "    <tr>\n",
              "      <th>area_mean</th>\n",
              "      <td>0.708984</td>\n",
              "      <td>0.987357</td>\n",
              "      <td>0.321086</td>\n",
              "      <td>0.986507</td>\n",
              "      <td>1.000000</td>\n",
              "      <td>0.177028</td>\n",
              "      <td>0.498502</td>\n",
              "      <td>0.685983</td>\n",
              "      <td>0.823269</td>\n",
              "      <td>0.151293</td>\n",
              "      <td>-0.283110</td>\n",
              "    </tr>\n",
              "    <tr>\n",
              "      <th>smoothness_mean</th>\n",
              "      <td>0.358560</td>\n",
              "      <td>0.170581</td>\n",
              "      <td>-0.023389</td>\n",
              "      <td>0.207278</td>\n",
              "      <td>0.177028</td>\n",
              "      <td>1.000000</td>\n",
              "      <td>0.659123</td>\n",
              "      <td>0.521984</td>\n",
              "      <td>0.553695</td>\n",
              "      <td>0.557775</td>\n",
              "      <td>0.584792</td>\n",
              "    </tr>\n",
              "    <tr>\n",
              "      <th>compactness_mean</th>\n",
              "      <td>0.596534</td>\n",
              "      <td>0.506124</td>\n",
              "      <td>0.236702</td>\n",
              "      <td>0.556936</td>\n",
              "      <td>0.498502</td>\n",
              "      <td>0.659123</td>\n",
              "      <td>1.000000</td>\n",
              "      <td>0.883121</td>\n",
              "      <td>0.831135</td>\n",
              "      <td>0.602641</td>\n",
              "      <td>0.565369</td>\n",
              "    </tr>\n",
              "    <tr>\n",
              "      <th>concavity_mean</th>\n",
              "      <td>0.696360</td>\n",
              "      <td>0.676764</td>\n",
              "      <td>0.302418</td>\n",
              "      <td>0.716136</td>\n",
              "      <td>0.685983</td>\n",
              "      <td>0.521984</td>\n",
              "      <td>0.883121</td>\n",
              "      <td>1.000000</td>\n",
              "      <td>0.921391</td>\n",
              "      <td>0.500667</td>\n",
              "      <td>0.336783</td>\n",
              "    </tr>\n",
              "    <tr>\n",
              "      <th>concave points_mean</th>\n",
              "      <td>0.776614</td>\n",
              "      <td>0.822529</td>\n",
              "      <td>0.293464</td>\n",
              "      <td>0.850977</td>\n",
              "      <td>0.823269</td>\n",
              "      <td>0.553695</td>\n",
              "      <td>0.831135</td>\n",
              "      <td>0.921391</td>\n",
              "      <td>1.000000</td>\n",
              "      <td>0.462497</td>\n",
              "      <td>0.166917</td>\n",
              "    </tr>\n",
              "    <tr>\n",
              "      <th>symmetry_mean</th>\n",
              "      <td>0.330499</td>\n",
              "      <td>0.147741</td>\n",
              "      <td>0.071401</td>\n",
              "      <td>0.183027</td>\n",
              "      <td>0.151293</td>\n",
              "      <td>0.557775</td>\n",
              "      <td>0.602641</td>\n",
              "      <td>0.500667</td>\n",
              "      <td>0.462497</td>\n",
              "      <td>1.000000</td>\n",
              "      <td>0.479921</td>\n",
              "    </tr>\n",
              "    <tr>\n",
              "      <th>fractal_dimension_mean</th>\n",
              "      <td>-0.012838</td>\n",
              "      <td>-0.311631</td>\n",
              "      <td>-0.076437</td>\n",
              "      <td>-0.261477</td>\n",
              "      <td>-0.283110</td>\n",
              "      <td>0.584792</td>\n",
              "      <td>0.565369</td>\n",
              "      <td>0.336783</td>\n",
              "      <td>0.166917</td>\n",
              "      <td>0.479921</td>\n",
              "      <td>1.000000</td>\n",
              "    </tr>\n",
              "  </tbody>\n",
              "</table>\n",
              "</div>"
            ],
            "text/plain": [
              "                        diagnosis  radius_mean  texture_mean  perimeter_mean  \\\n",
              "diagnosis                1.000000     0.730029      0.415185        0.742636   \n",
              "radius_mean              0.730029     1.000000      0.323782        0.997855   \n",
              "texture_mean             0.415185     0.323782      1.000000        0.329533   \n",
              "perimeter_mean           0.742636     0.997855      0.329533        1.000000   \n",
              "area_mean                0.708984     0.987357      0.321086        0.986507   \n",
              "smoothness_mean          0.358560     0.170581     -0.023389        0.207278   \n",
              "compactness_mean         0.596534     0.506124      0.236702        0.556936   \n",
              "concavity_mean           0.696360     0.676764      0.302418        0.716136   \n",
              "concave points_mean      0.776614     0.822529      0.293464        0.850977   \n",
              "symmetry_mean            0.330499     0.147741      0.071401        0.183027   \n",
              "fractal_dimension_mean  -0.012838    -0.311631     -0.076437       -0.261477   \n",
              "\n",
              "                        area_mean  smoothness_mean  compactness_mean  \\\n",
              "diagnosis                0.708984         0.358560          0.596534   \n",
              "radius_mean              0.987357         0.170581          0.506124   \n",
              "texture_mean             0.321086        -0.023389          0.236702   \n",
              "perimeter_mean           0.986507         0.207278          0.556936   \n",
              "area_mean                1.000000         0.177028          0.498502   \n",
              "smoothness_mean          0.177028         1.000000          0.659123   \n",
              "compactness_mean         0.498502         0.659123          1.000000   \n",
              "concavity_mean           0.685983         0.521984          0.883121   \n",
              "concave points_mean      0.823269         0.553695          0.831135   \n",
              "symmetry_mean            0.151293         0.557775          0.602641   \n",
              "fractal_dimension_mean  -0.283110         0.584792          0.565369   \n",
              "\n",
              "                        concavity_mean  concave points_mean  symmetry_mean  \\\n",
              "diagnosis                     0.696360             0.776614       0.330499   \n",
              "radius_mean                   0.676764             0.822529       0.147741   \n",
              "texture_mean                  0.302418             0.293464       0.071401   \n",
              "perimeter_mean                0.716136             0.850977       0.183027   \n",
              "area_mean                     0.685983             0.823269       0.151293   \n",
              "smoothness_mean               0.521984             0.553695       0.557775   \n",
              "compactness_mean              0.883121             0.831135       0.602641   \n",
              "concavity_mean                1.000000             0.921391       0.500667   \n",
              "concave points_mean           0.921391             1.000000       0.462497   \n",
              "symmetry_mean                 0.500667             0.462497       1.000000   \n",
              "fractal_dimension_mean        0.336783             0.166917       0.479921   \n",
              "\n",
              "                        fractal_dimension_mean  \n",
              "diagnosis                            -0.012838  \n",
              "radius_mean                          -0.311631  \n",
              "texture_mean                         -0.076437  \n",
              "perimeter_mean                       -0.261477  \n",
              "area_mean                            -0.283110  \n",
              "smoothness_mean                       0.584792  \n",
              "compactness_mean                      0.565369  \n",
              "concavity_mean                        0.336783  \n",
              "concave points_mean                   0.166917  \n",
              "symmetry_mean                         0.479921  \n",
              "fractal_dimension_mean                1.000000  "
            ]
          },
          "metadata": {},
          "execution_count": 26
        }
      ]
    },
    {
      "cell_type": "code",
      "metadata": {
        "colab": {
          "base_uri": "https://localhost:8080/",
          "height": 666
        },
        "id": "4u4M5D238php",
        "outputId": "e84f88b1-9b69-42ee-916b-f5b854d1e3ee"
      },
      "source": [
        "plt.figure(figsize=(12, 9))\n",
        "\n",
        "plt.title(\"Correlation Graph\")\n",
        "\n",
        "cmap = sns.diverging_palette( 1000, 1200, as_cmap=True)\n",
        "sns.heatmap(bc_data[cols].corr(), annot=True, fmt='.1%',  linewidths=.05, cmap=cmap);"
      ],
      "execution_count": null,
      "outputs": [
        {
          "output_type": "display_data",
          "data": {
            "image/png": "[encoded data removed]",
            "text/plain": [
              "<Figure size 864x648 with 2 Axes>"
            ]
          },
          "metadata": {}
        }
      ]
    },
    {
      "cell_type": "code",
      "metadata": {
        "id": "mOUkrwcM8sL5",
        "colab": {
          "base_uri": "https://localhost:8080/",
          "height": 559
        },
        "outputId": "e475cb6c-2d9e-4a35-9b29-397d5ce68eca"
      },
      "source": [
        "plt.figure(figsize=(15, 10))\n",
        "\n",
        "\n",
        "fig = px.imshow(bc_data[cols].corr());\n",
        "fig.show()"
      ],
      "execution_count": null,
      "outputs": [
        {
          "output_type": "display_data",
          "data": {
            "text/html": [
              "<html>\n",
              "<head><meta charset=\"utf-8\" /></head>\n",
              "<body>\n",
              "    <div>\n",
              "            <script src=\"https://cdnjs.cloudflare.com/ajax/libs/mathjax/2.7.5/MathJax.js?config=TeX-AMS-MML_SVG\"></script><script type=\"text/javascript\">if (window.MathJax) {MathJax.Hub.Config({SVG: {font: \"STIX-Web\"}});}</script>\n",
              "                <script type=\"text/javascript\">window.PlotlyConfig = {MathJaxConfig: 'local'};</script>\n",
              "        <script src=\"https://cdn.plot.ly/plotly-latest.min.js\"></script>    \n",
              "            <div id=\"ec64ae2e-ee3d-4b63-b5c7-fd374e377f9a\" class=\"plotly-graph-div\" style=\"height:525px; width:100%;\"></div>\n",
              "            <script type=\"text/javascript\">\n",
              "                \n",
              "                    window.PLOTLYENV=window.PLOTLYENV || {};\n",
              "                    \n",
              "                if (document.getElementById(\"ec64ae2e-ee3d-4b63-b5c7-fd374e377f9a\")) {\n",
              "                    Plotly.newPlot(\n",
              "                        'ec64ae2e-ee3d-4b63-b5c7-fd374e377f9a',\n",
              "                        [{\"coloraxis\": \"coloraxis\", \"type\": \"heatmap\", \"z\": [[1.0, 0.7300285113754569, 0.4151852998452046, 0.742635529725833, 0.7089838365853909, 0.3585599650859322, 0.5965336775082529, 0.6963597071719053, 0.7766138400204361, 0.3304985542625467, -0.012837602698432364], [0.7300285113754569, 1.0, 0.32378189092773274, 0.9978552814938113, 0.9873571700566119, 0.17058118749299475, 0.5061235775263626, 0.6767635503908116, 0.8225285223871791, 0.14774124199260222, -0.3116308263092901], [0.4151852998452046, 0.32378189092773274, 1.0, 0.3295330586865708, 0.321085696080207, -0.02338851599842355, 0.2367022220743719, 0.3024178279438913, 0.29346405131394243, 0.07140098048331711, -0.07643718344813386], [0.742635529725833, 0.9978552814938113, 0.3295330586865708, 1.0, 0.9865068039913906, 0.20727816369100655, 0.556936210879562, 0.7161356501174044, 0.8509770412528199, 0.18302721211685288, -0.2614769080663339], [0.7089838365853909, 0.9873571700566119, 0.321085696080207, 0.9865068039913906, 1.0, 0.1770283772540013, 0.49850168215241164, 0.6859828285519113, 0.823268868652435, 0.1512930790351123, -0.2831098116914262], [0.3585599650859322, 0.17058118749299475, -0.02338851599842355, 0.20727816369100655, 0.1770283772540013, 1.0, 0.6591232152159219, 0.5219837677142599, 0.5536951727437602, 0.557774788072887, 0.5847920019499777], [0.5965336775082529, 0.5061235775263626, 0.2367022220743719, 0.556936210879562, 0.49850168215241164, 0.6591232152159219, 1.0, 0.8831206701772499, 0.8311350431336992, 0.602641048405516, 0.5653686634145229], [0.6963597071719053, 0.6767635503908116, 0.3024178279438913, 0.7161356501174044, 0.6859828285519113, 0.5219837677142599, 0.8831206701772499, 1.0, 0.9213910263788594, 0.5006666171419625, 0.3367833594211852], [0.7766138400204361, 0.8225285223871791, 0.29346405131394243, 0.8509770412528199, 0.823268868652435, 0.5536951727437602, 0.8311350431336992, 0.9213910263788594, 1.0, 0.4624973883673589, 0.16691738322699232], [0.3304985542625467, 0.14774124199260222, 0.07140098048331711, 0.18302721211685288, 0.1512930790351123, 0.557774788072887, 0.602641048405516, 0.5006666171419625, 0.4624973883673589, 1.0, 0.47992133005096926], [-0.012837602698432364, -0.3116308263092901, -0.07643718344813386, -0.2614769080663339, -0.2831098116914262, 0.5847920019499777, 0.5653686634145229, 0.3367833594211852, 0.16691738322699232, 0.47992133005096926, 1.0]]}],\n",
              "                        {\"coloraxis\": {\"colorscale\": [[0.0, \"#0d0887\"], [0.1111111111111111, \"#46039f\"], [0.2222222222222222, \"#7201a8\"], [0.3333333333333333, \"#9c179e\"], [0.4444444444444444, \"#bd3786\"], [0.5555555555555556, \"#d8576b\"], [0.6666666666666666, \"#ed7953\"], [0.7777777777777778, \"#fb9f3a\"], [0.8888888888888888, \"#fdca26\"], [1.0, \"#f0f921\"]]}, \"margin\": {\"t\": 60}, \"template\": {\"data\": {\"bar\": [{\"error_x\": {\"color\": \"#2a3f5f\"}, \"error_y\": {\"color\": \"#2a3f5f\"}, \"marker\": {\"line\": {\"color\": \"#E5ECF6\", \"width\": 0.5}}, \"type\": \"bar\"}], \"barpolar\": [{\"marker\": {\"line\": {\"color\": \"#E5ECF6\", \"width\": 0.5}}, \"type\": \"barpolar\"}], \"carpet\": [{\"aaxis\": {\"endlinecolor\": \"#2a3f5f\", \"gridcolor\": \"white\", \"linecolor\": \"white\", \"minorgridcolor\": \"white\", \"startlinecolor\": \"#2a3f5f\"}, \"baxis\": {\"endlinecolor\": \"#2a3f5f\", \"gridcolor\": \"white\", \"linecolor\": \"white\", \"minorgridcolor\": \"white\", \"startlinecolor\": \"#2a3f5f\"}, \"type\": \"carpet\"}], \"choropleth\": [{\"colorbar\": {\"outlinewidth\": 0, \"ticks\": \"\"}, \"type\": \"choropleth\"}], \"contour\": [{\"colorbar\": {\"outlinewidth\": 0, \"ticks\": \"\"}, \"colorscale\": [[0.0, \"#0d0887\"], [0.1111111111111111, \"#46039f\"], [0.2222222222222222, \"#7201a8\"], [0.3333333333333333, \"#9c179e\"], [0.4444444444444444, \"#bd3786\"], [0.5555555555555556, \"#d8576b\"], [0.6666666666666666, \"#ed7953\"], [0.7777777777777778, \"#fb9f3a\"], [0.8888888888888888, \"#fdca26\"], [1.0, \"#f0f921\"]], \"type\": \"contour\"}], \"contourcarpet\": [{\"colorbar\": {\"outlinewidth\": 0, \"ticks\": \"\"}, \"type\": \"contourcarpet\"}], \"heatmap\": [{\"colorbar\": {\"outlinewidth\": 0, \"ticks\": \"\"}, \"colorscale\": [[0.0, \"#0d0887\"], [0.1111111111111111, \"#46039f\"], [0.2222222222222222, \"#7201a8\"], [0.3333333333333333, \"#9c179e\"], [0.4444444444444444, \"#bd3786\"], [0.5555555555555556, \"#d8576b\"], [0.6666666666666666, \"#ed7953\"], [0.7777777777777778, \"#fb9f3a\"], [0.8888888888888888, \"#fdca26\"], [1.0, \"#f0f921\"]], \"type\": \"heatmap\"}], \"heatmapgl\": [{\"colorbar\": {\"outlinewidth\": 0, \"ticks\": \"\"}, \"colorscale\": [[0.0, \"#0d0887\"], [0.1111111111111111, \"#46039f\"], [0.2222222222222222, \"#7201a8\"], [0.3333333333333333, \"#9c179e\"], [0.4444444444444444, \"#bd3786\"], [0.5555555555555556, \"#d8576b\"], [0.6666666666666666, \"#ed7953\"], [0.7777777777777778, \"#fb9f3a\"], [0.8888888888888888, \"#fdca26\"], [1.0, \"#f0f921\"]], \"type\": \"heatmapgl\"}], \"histogram\": [{\"marker\": {\"colorbar\": {\"outlinewidth\": 0, \"ticks\": \"\"}}, \"type\": \"histogram\"}], \"histogram2d\": [{\"colorbar\": {\"outlinewidth\": 0, \"ticks\": \"\"}, \"colorscale\": [[0.0, \"#0d0887\"], [0.1111111111111111, \"#46039f\"], [0.2222222222222222, \"#7201a8\"], [0.3333333333333333, \"#9c179e\"], [0.4444444444444444, \"#bd3786\"], [0.5555555555555556, \"#d8576b\"], [0.6666666666666666, \"#ed7953\"], [0.7777777777777778, \"#fb9f3a\"], [0.8888888888888888, \"#fdca26\"], [1.0, \"#f0f921\"]], \"type\": \"histogram2d\"}], \"histogram2dcontour\": [{\"colorbar\": {\"outlinewidth\": 0, \"ticks\": \"\"}, \"colorscale\": [[0.0, \"#0d0887\"], [0.1111111111111111, \"#46039f\"], [0.2222222222222222, \"#7201a8\"], [0.3333333333333333, \"#9c179e\"], [0.4444444444444444, \"#bd3786\"], [0.5555555555555556, \"#d8576b\"], [0.6666666666666666, \"#ed7953\"], [0.7777777777777778, \"#fb9f3a\"], [0.8888888888888888, \"#fdca26\"], [1.0, \"#f0f921\"]], \"type\": \"histogram2dcontour\"}], \"mesh3d\": [{\"colorbar\": {\"outlinewidth\": 0, \"ticks\": \"\"}, \"type\": \"mesh3d\"}], \"parcoords\": [{\"line\": {\"colorbar\": {\"outlinewidth\": 0, \"ticks\": \"\"}}, \"type\": \"parcoords\"}], \"pie\": [{\"automargin\": true, \"type\": \"pie\"}], \"scatter\": [{\"marker\": {\"colorbar\": {\"outlinewidth\": 0, \"ticks\": \"\"}}, \"type\": \"scatter\"}], \"scatter3d\": [{\"line\": {\"colorbar\": {\"outlinewidth\": 0, \"ticks\": \"\"}}, \"marker\": {\"colorbar\": {\"outlinewidth\": 0, \"ticks\": \"\"}}, \"type\": \"scatter3d\"}], \"scattercarpet\": [{\"marker\": {\"colorbar\": {\"outlinewidth\": 0, \"ticks\": \"\"}}, \"type\": \"scattercarpet\"}], \"scattergeo\": [{\"marker\": {\"colorbar\": {\"outlinewidth\": 0, \"ticks\": \"\"}}, \"type\": \"scattergeo\"}], \"scattergl\": [{\"marker\": {\"colorbar\": {\"outlinewidth\": 0, \"ticks\": \"\"}}, \"type\": \"scattergl\"}], \"scattermapbox\": [{\"marker\": {\"colorbar\": {\"outlinewidth\": 0, \"ticks\": \"\"}}, \"type\": \"scattermapbox\"}], \"scatterpolar\": [{\"marker\": {\"colorbar\": {\"outlinewidth\": 0, \"ticks\": \"\"}}, \"type\": \"scatterpolar\"}], \"scatterpolargl\": [{\"marker\": {\"colorbar\": {\"outlinewidth\": 0, \"ticks\": \"\"}}, \"type\": \"scatterpolargl\"}], \"scatterternary\": [{\"marker\": {\"colorbar\": {\"outlinewidth\": 0, \"ticks\": \"\"}}, \"type\": \"scatterternary\"}], \"surface\": [{\"colorbar\": {\"outlinewidth\": 0, \"ticks\": \"\"}, \"colorscale\": [[0.0, \"#0d0887\"], [0.1111111111111111, \"#46039f\"], [0.2222222222222222, \"#7201a8\"], [0.3333333333333333, \"#9c179e\"], [0.4444444444444444, \"#bd3786\"], [0.5555555555555556, \"#d8576b\"], [0.6666666666666666, \"#ed7953\"], [0.7777777777777778, \"#fb9f3a\"], [0.8888888888888888, \"#fdca26\"], [1.0, \"#f0f921\"]], \"type\": \"surface\"}], \"table\": [{\"cells\": {\"fill\": {\"color\": \"#EBF0F8\"}, \"line\": {\"color\": \"white\"}}, \"header\": {\"fill\": {\"color\": \"#C8D4E3\"}, \"line\": {\"color\": \"white\"}}, \"type\": \"table\"}]}, \"layout\": {\"annotationdefaults\": {\"arrowcolor\": \"#2a3f5f\", \"arrowhead\": 0, \"arrowwidth\": 1}, \"coloraxis\": {\"colorbar\": {\"outlinewidth\": 0, \"ticks\": \"\"}}, \"colorscale\": {\"diverging\": [[0, \"#8e0152\"], [0.1, \"#c51b7d\"], [0.2, \"#de77ae\"], [0.3, \"#f1b6da\"], [0.4, \"#fde0ef\"], [0.5, \"#f7f7f7\"], [0.6, \"#e6f5d0\"], [0.7, \"#b8e186\"], [0.8, \"#7fbc41\"], [0.9, \"#4d9221\"], [1, \"#276419\"]], \"sequential\": [[0.0, \"#0d0887\"], [0.1111111111111111, \"#46039f\"], [0.2222222222222222, \"#7201a8\"], [0.3333333333333333, \"#9c179e\"], [0.4444444444444444, \"#bd3786\"], [0.5555555555555556, \"#d8576b\"], [0.6666666666666666, \"#ed7953\"], [0.7777777777777778, \"#fb9f3a\"], [0.8888888888888888, \"#fdca26\"], [1.0, \"#f0f921\"]], \"sequentialminus\": [[0.0, \"#0d0887\"], [0.1111111111111111, \"#46039f\"], [0.2222222222222222, \"#7201a8\"], [0.3333333333333333, \"#9c179e\"], [0.4444444444444444, \"#bd3786\"], [0.5555555555555556, \"#d8576b\"], [0.6666666666666666, \"#ed7953\"], [0.7777777777777778, \"#fb9f3a\"], [0.8888888888888888, \"#fdca26\"], [1.0, \"#f0f921\"]]}, \"colorway\": [\"#636efa\", \"#EF553B\", \"#00cc96\", \"#ab63fa\", \"#FFA15A\", \"#19d3f3\", \"#FF6692\", \"#B6E880\", \"#FF97FF\", \"#FECB52\"], \"font\": {\"color\": \"#2a3f5f\"}, \"geo\": {\"bgcolor\": \"white\", \"lakecolor\": \"white\", \"landcolor\": \"#E5ECF6\", \"showlakes\": true, \"showland\": true, \"subunitcolor\": \"white\"}, \"hoverlabel\": {\"align\": \"left\"}, \"hovermode\": \"closest\", \"mapbox\": {\"style\": \"light\"}, \"paper_bgcolor\": \"white\", \"plot_bgcolor\": \"#E5ECF6\", \"polar\": {\"angularaxis\": {\"gridcolor\": \"white\", \"linecolor\": \"white\", \"ticks\": \"\"}, \"bgcolor\": \"#E5ECF6\", \"radialaxis\": {\"gridcolor\": \"white\", \"linecolor\": \"white\", \"ticks\": \"\"}}, \"scene\": {\"xaxis\": {\"backgroundcolor\": \"#E5ECF6\", \"gridcolor\": \"white\", \"gridwidth\": 2, \"linecolor\": \"white\", \"showbackground\": true, \"ticks\": \"\", \"zerolinecolor\": \"white\"}, \"yaxis\": {\"backgroundcolor\": \"#E5ECF6\", \"gridcolor\": \"white\", \"gridwidth\": 2, \"linecolor\": \"white\", \"showbackground\": true, \"ticks\": \"\", \"zerolinecolor\": \"white\"}, \"zaxis\": {\"backgroundcolor\": \"#E5ECF6\", \"gridcolor\": \"white\", \"gridwidth\": 2, \"linecolor\": \"white\", \"showbackground\": true, \"ticks\": \"\", \"zerolinecolor\": \"white\"}}, \"shapedefaults\": {\"line\": {\"color\": \"#2a3f5f\"}}, \"ternary\": {\"aaxis\": {\"gridcolor\": \"white\", \"linecolor\": \"white\", \"ticks\": \"\"}, \"baxis\": {\"gridcolor\": \"white\", \"linecolor\": \"white\", \"ticks\": \"\"}, \"bgcolor\": \"#E5ECF6\", \"caxis\": {\"gridcolor\": \"white\", \"linecolor\": \"white\", \"ticks\": \"\"}}, \"title\": {\"x\": 0.05}, \"xaxis\": {\"automargin\": true, \"gridcolor\": \"white\", \"linecolor\": \"white\", \"ticks\": \"\", \"title\": {\"standoff\": 15}, \"zerolinecolor\": \"white\", \"zerolinewidth\": 2}, \"yaxis\": {\"automargin\": true, \"gridcolor\": \"white\", \"linecolor\": \"white\", \"ticks\": \"\", \"title\": {\"standoff\": 15}, \"zerolinecolor\": \"white\", \"zerolinewidth\": 2}}}, \"xaxis\": {\"constrain\": \"domain\", \"scaleanchor\": \"y\"}, \"yaxis\": {\"autorange\": \"reversed\", \"constrain\": \"domain\"}},\n",
              "                        {\"responsive\": true}\n",
              "                    ).then(function(){\n",
              "                            \n",
              "var gd = document.getElementById('ec64ae2e-ee3d-4b63-b5c7-fd374e377f9a');\n",
              "var x = new MutationObserver(function (mutations, observer) {{\n",
              "        var display = window.getComputedStyle(gd).display;\n",
              "        if (!display || display === 'none') {{\n",
              "            console.log([gd, 'removed!']);\n",
              "            Plotly.purge(gd);\n",
              "            observer.disconnect();\n",
              "        }}\n",
              "}});\n",
              "\n",
              "// Listen for the removal of the full notebook cells\n",
              "var notebookContainer = gd.closest('#notebook-container');\n",
              "if (notebookContainer) {{\n",
              "    x.observe(notebookContainer, {childList: true});\n",
              "}}\n",
              "\n",
              "// Listen for the clearing of the current output cell\n",
              "var outputEl = gd.closest('.output');\n",
              "if (outputEl) {{\n",
              "    x.observe(outputEl, {childList: true});\n",
              "}}\n",
              "\n",
              "                        })\n",
              "                };\n",
              "                \n",
              "            </script>\n",
              "        </div>\n",
              "</body>\n",
              "</html>"
            ]
          },
          "metadata": {}
        },
        {
          "output_type": "display_data",
          "data": {
            "text/plain": [
              "<Figure size 1080x720 with 0 Axes>"
            ]
          },
          "metadata": {}
        }
      ]
    },
    {
      "cell_type": "markdown",
      "metadata": {
        "id": "18vXyjm78ys5"
      },
      "source": [
        "# Models"
      ]
    },
    {
      "cell_type": "markdown",
      "metadata": {
        "id": "kz5Gu-sq81so"
      },
      "source": [
        "### Training and Testing Data set"
      ]
    },
    {
      "cell_type": "code",
      "metadata": {
        "id": "QKnblIko8w5Z"
      },
      "source": [
        "from sklearn.model_selection import train_test_split\n",
        "\n",
        "from sklearn.preprocessing import StandardScaler"
      ],
      "execution_count": null,
      "outputs": []
    },
    {
      "cell_type": "markdown",
      "metadata": {
        "id": "xZa2vtDv9BEA"
      },
      "source": [
        "## ML Models"
      ]
    },
    {
      "cell_type": "code",
      "metadata": {
        "id": "en2SyVii8-j4"
      },
      "source": [
        "from sklearn.linear_model import LogisticRegression\n",
        "from sklearn.tree import DecisionTreeClassifier\n",
        "from sklearn.ensemble import RandomForestClassifier\n",
        "from sklearn.naive_bayes import GaussianNB\n",
        "from sklearn.neighbors import KNeighborsClassifier\n",
        "from sklearn.metrics import accuracy_score, confusion_matrix, f1_score, classification_report\n",
        "from sklearn.model_selection import cross_validate, cross_val_score, KFold\n",
        "from sklearn.svm import SVC\n",
        "from sklearn import metrics"
      ],
      "execution_count": null,
      "outputs": []
    },
    {
      "cell_type": "code",
      "metadata": {
        "colab": {
          "base_uri": "https://localhost:8080/"
        },
        "id": "TtyZGAAbB__o",
        "outputId": "df1b6a4a-ec78-4c38-8a00-08f312b5bf79"
      },
      "source": [
        "bc_data.columns"
      ],
      "execution_count": null,
      "outputs": [
        {
          "output_type": "execute_result",
          "data": {
            "text/plain": [
              "Index(['id', 'diagnosis', 'radius_mean', 'texture_mean', 'perimeter_mean',\n",
              "       'area_mean', 'smoothness_mean', 'compactness_mean', 'concavity_mean',\n",
              "       'concave points_mean', 'symmetry_mean', 'fractal_dimension_mean',\n",
              "       'radius_se', 'texture_se', 'perimeter_se', 'area_se', 'smoothness_se',\n",
              "       'compactness_se', 'concavity_se', 'concave points_se', 'symmetry_se',\n",
              "       'fractal_dimension_se', 'radius_worst', 'texture_worst',\n",
              "       'perimeter_worst', 'area_worst', 'smoothness_worst',\n",
              "       'compactness_worst', 'concavity_worst', 'concave points_worst',\n",
              "       'symmetry_worst', 'fractal_dimension_worst'],\n",
              "      dtype='object')"
            ]
          },
          "metadata": {},
          "execution_count": 31
        }
      ]
    },
    {
      "cell_type": "code",
      "metadata": {
        "colab": {
          "base_uri": "https://localhost:8080/"
        },
        "id": "iuv4FXCVCGYo",
        "outputId": "06eaca9b-2c7c-4faa-c3c7-2ad001b6e17c"
      },
      "source": [
        "prediction_feature = [ \"radius_mean\",  'perimeter_mean', 'area_mean', 'symmetry_mean', 'compactness_mean', 'concave points_mean']\n",
        "prediction_feature = ['radius_mean', 'texture_mean', 'perimeter_mean',\n",
        "       'area_mean', 'smoothness_mean', 'compactness_mean', 'concavity_mean',\n",
        "       'concave points_mean', 'symmetry_mean', 'fractal_dimension_mean',\n",
        "       'radius_se', 'texture_se', 'perimeter_se', 'area_se', 'smoothness_se',\n",
        "       'compactness_se', 'concavity_se', 'concave points_se', 'symmetry_se',\n",
        "       'fractal_dimension_se', 'radius_worst', 'texture_worst',\n",
        "       'perimeter_worst', 'area_worst', 'smoothness_worst',\n",
        "       'compactness_worst', 'concavity_worst', 'concave points_worst',\n",
        "       'symmetry_worst', 'fractal_dimension_worst']\n",
        "targeted_feature = 'diagnosis'\n",
        "\n",
        "len(prediction_feature)"
      ],
      "execution_count": null,
      "outputs": [
        {
          "output_type": "execute_result",
          "data": {
            "text/plain": [
              "30"
            ]
          },
          "metadata": {},
          "execution_count": 32
        }
      ]
    },
    {
      "cell_type": "code",
      "metadata": {
        "colab": {
          "base_uri": "https://localhost:8080/"
        },
        "id": "zrilqtL2CIdI",
        "outputId": "de6e895b-46c9-4a57-f737-82fc08d90fd0"
      },
      "source": [
        "X = bc_data[prediction_feature]\n",
        "print(X.shape)\n",
        "#print(X.values)"
      ],
      "execution_count": null,
      "outputs": [
        {
          "output_type": "stream",
          "name": "stdout",
          "text": [
            "(569, 30)\n"
          ]
        }
      ]
    },
    {
      "cell_type": "code",
      "metadata": {
        "colab": {
          "base_uri": "https://localhost:8080/"
        },
        "id": "kJgm4qGhCKuY",
        "outputId": "ee9a7858-3f66-4b67-d075-3a809e13a826"
      },
      "source": [
        "y = bc_data.diagnosis\n",
        "#y\n",
        "print(y.shape)"
      ],
      "execution_count": null,
      "outputs": [
        {
          "output_type": "stream",
          "name": "stdout",
          "text": [
            "(569,)\n"
          ]
        }
      ]
    },
    {
      "cell_type": "code",
      "metadata": {
        "colab": {
          "base_uri": "https://localhost:8080/"
        },
        "id": "Ox74D0eSCLmT",
        "outputId": "7d9294a7-cd6f-4b2f-ed21-b89a6e6fbad9"
      },
      "source": [
        "X_train, X_test, y_train, y_test = train_test_split(X, y, test_size=0.33, random_state=15)\n",
        "\n",
        "#print(X_train)\n",
        "# print(X_test)\n",
        "print(X_train.shape)\n",
        "print(X_test.shape)"
      ],
      "execution_count": null,
      "outputs": [
        {
          "output_type": "stream",
          "name": "stdout",
          "text": [
            "(381, 30)\n",
            "(188, 30)\n"
          ]
        }
      ]
    },
    {
      "cell_type": "code",
      "metadata": {
        "id": "rafW96pE2DiJ"
      },
      "source": [
        "# Scale the data to keep all the values in the same magnitude of 0 -1 \n",
        "sc = StandardScaler()\n",
        "X_train = sc.fit_transform(X_train)\n",
        "X_test = sc.transform(X_test)"
      ],
      "execution_count": null,
      "outputs": []
    },
    {
      "cell_type": "markdown",
      "metadata": {
        "id": "yM6NxW8C9ZVs"
      },
      "source": [
        "# Using All Features"
      ]
    },
    {
      "cell_type": "code",
      "metadata": {
        "id": "4DBarr2B9iaM"
      },
      "source": [
        "def model_building(model, X_train, X_test, y_train, y_test):\n",
        "    \"\"\"\n",
        "    Model Fitting, Prediction And Other stuff\n",
        "    return ('score', 'accuracy_score', 'predictions' )\n",
        "    \"\"\"\n",
        "    \n",
        "    model.fit(X_train, y_train)\n",
        "    score = model.score(X_train, y_train)\n",
        "    predictions = model.predict(X_test)\n",
        "    accuracy = accuracy_score(predictions, y_test)\n",
        "\n",
        "    return (score, accuracy, predictions)"
      ],
      "execution_count": null,
      "outputs": []
    },
    {
      "cell_type": "code",
      "metadata": {
        "id": "HedPya6X93Dx"
      },
      "source": [
        "models_list = {\n",
        "  \"LogisticRegression\" :  LogisticRegression(),\n",
        "  \"RandomForestClassifier\" :  RandomForestClassifier(n_estimators=10, criterion='entropy', random_state=5),\n",
        "  \"DecisionTreeClassifier\" :  DecisionTreeClassifier(criterion='entropy', random_state=0),\n",
        "  \"SVC\" :  SVC(probability=True,kernel='linear'),\n",
        "}\n",
        "\n",
        "# print(models_list)"
      ],
      "execution_count": null,
      "outputs": []
    },
    {
      "cell_type": "code",
      "metadata": {
        "colab": {
          "base_uri": "https://localhost:8080/"
        },
        "id": "b0GBuUy4-opw",
        "outputId": "f75474ff-576f-4452-b12b-2cb67fa4cd5c"
      },
      "source": [
        "X_test.shape"
      ],
      "execution_count": null,
      "outputs": [
        {
          "output_type": "execute_result",
          "data": {
            "text/plain": [
              "(188, 30)"
            ]
          },
          "metadata": {},
          "execution_count": 81
        }
      ]
    },
    {
      "cell_type": "code",
      "metadata": {
        "colab": {
          "base_uri": "https://localhost:8080/"
        },
        "id": "JNpCuwZj94Ek",
        "outputId": "cfa9448b-8c71-4d60-a11a-1d08957ae304"
      },
      "source": [
        "df_prediction = []\n",
        "confusion_matrixs = []\n",
        "df_prediction_cols = [ 'model_name', 'score', 'accuracy_score' , \"accuracy_percentage\"]\n",
        "\n",
        "for name, model in zip(list(models_list.keys()), list(models_list.values())):\n",
        "    (score, accuracy, predictions) = model_building(model, X_train, X_test, y_train, y_test)\n",
        "    print(\"\\n\\nClassification Report of '\"+ str(name), \"'\\n\")\n",
        "    print(classification_report(y_test, predictions))\n",
        "    df_prediction.append([name, score, accuracy, \"{0:.2%}\".format(accuracy)])\n",
        "    # For Showing Metrics\n",
        "    confusion_matrixs.append(confusion_matrix(y_test, predictions))            \n",
        "df_pred = pd.DataFrame(df_prediction, columns=df_prediction_cols)"
      ],
      "execution_count": null,
      "outputs": [
        {
          "output_type": "stream",
          "name": "stdout",
          "text": [
            "\n",
            "\n",
            "Classification Report of 'LogisticRegression '\n",
            "\n",
            "              precision    recall  f1-score   support\n",
            "\n",
            "           0       0.97      0.97      0.97       115\n",
            "           1       0.96      0.95      0.95        73\n",
            "\n",
            "    accuracy                           0.96       188\n",
            "   macro avg       0.96      0.96      0.96       188\n",
            "weighted avg       0.96      0.96      0.96       188\n",
            "\n",
            "\n",
            "\n",
            "Classification Report of 'RandomForestClassifier '\n",
            "\n",
            "              precision    recall  f1-score   support\n",
            "\n",
            "           0       0.95      0.98      0.97       115\n",
            "           1       0.97      0.92      0.94        73\n",
            "\n",
            "    accuracy                           0.96       188\n",
            "   macro avg       0.96      0.95      0.95       188\n",
            "weighted avg       0.96      0.96      0.96       188\n",
            "\n",
            "\n",
            "\n",
            "Classification Report of 'DecisionTreeClassifier '\n",
            "\n",
            "              precision    recall  f1-score   support\n",
            "\n",
            "           0       0.93      0.97      0.95       115\n",
            "           1       0.94      0.89      0.92        73\n",
            "\n",
            "    accuracy                           0.94       188\n",
            "   macro avg       0.94      0.93      0.93       188\n",
            "weighted avg       0.94      0.94      0.94       188\n",
            "\n",
            "\n",
            "\n",
            "Classification Report of 'SVC '\n",
            "\n",
            "              precision    recall  f1-score   support\n",
            "\n",
            "           0       0.96      0.96      0.96       115\n",
            "           1       0.93      0.93      0.93        73\n",
            "\n",
            "    accuracy                           0.95       188\n",
            "   macro avg       0.94      0.94      0.94       188\n",
            "weighted avg       0.95      0.95      0.95       188\n",
            "\n"
          ]
        }
      ]
    },
    {
      "cell_type": "markdown",
      "metadata": {
        "id": "GDXPO_6YzGnM"
      },
      "source": [
        "# Feature Selection"
      ]
    },
    {
      "cell_type": "markdown",
      "metadata": {
        "id": "HEDt8yY8x0pv"
      },
      "source": [
        "## 1. PCA"
      ]
    },
    {
      "cell_type": "code",
      "metadata": {
        "colab": {
          "base_uri": "https://localhost:8080/"
        },
        "id": "pdKt8vkXzI--",
        "outputId": "7ef9cbb3-89f3-4518-882e-3037e5ba5b51"
      },
      "source": [
        "from sklearn.decomposition import PCA, KernelPCA\n",
        "\n",
        "pca = PCA(n_components=10)\n",
        "pca.fit(X_train)\n",
        "#PCA(n_components=4)\n",
        "print(pca.explained_variance_ratio_)\n",
        "print(pca.singular_values_)\n",
        "print(np.sum(pca.explained_variance_ratio_))\n",
        "\n",
        "X_train_pca= pca.transform(X_train)\n",
        "X_test_pca= pca.transform(X_test)"
      ],
      "execution_count": null,
      "outputs": [
        {
          "output_type": "stream",
          "name": "stdout",
          "text": [
            "[0.43653494 0.19555986 0.09851384 0.0644592  0.05671248 0.03868288\n",
            " 0.02187759 0.01592056 0.01299675 0.01109644]\n",
            "[70.6370605  47.27842253 33.55611963 27.14348338 25.46023716 21.02725266\n",
            " 15.81331124 13.48970009 12.18822746 11.26198467]\n",
            "0.9523545447248644\n"
          ]
        }
      ]
    },
    {
      "cell_type": "code",
      "metadata": {
        "colab": {
          "base_uri": "https://localhost:8080/",
          "height": 404
        },
        "id": "SXthhYwkVzCN",
        "outputId": "d914bc6d-db29-4c90-ed6c-546db5ecb30f"
      },
      "source": [
        "pca = PCA(10).fit(X_train)\n",
        "\n",
        "% matplotlib inline\n",
        "import matplotlib.pyplot as plt\n",
        "plt.rcParams[\"figure.figsize\"] = (12,6)\n",
        "\n",
        "fig, ax = plt.subplots()\n",
        "xi = np.arange(1, 11, step=1)\n",
        "y = np.cumsum(pca.explained_variance_ratio_)\n",
        "\n",
        "plt.ylim(0.0,1.1)\n",
        "plt.plot(xi, y, marker='o', linestyle='--', color='b')\n",
        "\n",
        "plt.xlabel('Number of Components')\n",
        "plt.xticks(np.arange(0, 11, step=1)) #change from 0-based array index to 1-based human-readable label\n",
        "plt.ylabel('Cumulative variance (%)')\n",
        "plt.title('The number of components needed to explain variance')\n",
        "\n",
        "plt.axhline(y=0.95, color='r', linestyle='-')\n",
        "plt.text(0.5, 0.85, '95% cut-off threshold', color = 'red', fontsize=16)\n",
        "\n",
        "ax.grid(axis='x')\n",
        "plt.show()"
      ],
      "execution_count": null,
      "outputs": [
        {
          "output_type": "display_data",
          "data": {
            "image/png": "[encoded data removed]",
            "text/plain": [
              "<Figure size 864x432 with 1 Axes>"
            ]
          },
          "metadata": {
            "needs_background": "light"
          }
        }
      ]
    },
    {
      "cell_type": "markdown",
      "metadata": {
        "id": "pzrQnyPYVytm"
      },
      "source": [
        ""
      ]
    },
    {
      "cell_type": "markdown",
      "metadata": {
        "id": "_GuMeJhL683m"
      },
      "source": [
        "### PCA Observations\n",
        "\n",
        "1. Using only 10 components of PCA out of 30 is able to explain the data with 95 %\n",
        "2. That means true dimesion of the data is only 10"
      ]
    },
    {
      "cell_type": "code",
      "metadata": {
        "id": "pK-5Of0H0Gd3"
      },
      "source": [
        "def model_building(model, X_train, X_test, y_train, y_test):\n",
        "    \"\"\"\n",
        "    Model Fitting, Prediction And Other stuff\n",
        "    return ('score', 'accuracy_score', 'predictions' )\n",
        "    \"\"\"\n",
        "    \n",
        "    model.fit(X_train, y_train)\n",
        "    score = model.score(X_train, y_train)\n",
        "    predictions = model.predict(X_test)\n",
        "    accuracy = accuracy_score(predictions, y_test)\n",
        "\n",
        "    return (score, accuracy, predictions)"
      ],
      "execution_count": null,
      "outputs": []
    },
    {
      "cell_type": "code",
      "metadata": {
        "id": "rDWZ3LXi0fJF"
      },
      "source": [
        "models_list = {\n",
        "  \"LogisticRegression\" :  LogisticRegression(),\n",
        "  \"RandomForestClassifier\" :  RandomForestClassifier(n_estimators=10, criterion='entropy', random_state=5),\n",
        "  \"DecisionTreeClassifier\" :  DecisionTreeClassifier(criterion='entropy', random_state=0),\n",
        "  \"SVC\" :  SVC(probability=True,kernel='linear'),\n",
        "}\n",
        "\n",
        "# print(models_list)"
      ],
      "execution_count": null,
      "outputs": []
    },
    {
      "cell_type": "code",
      "metadata": {
        "colab": {
          "base_uri": "https://localhost:8080/"
        },
        "id": "Y1vx11xW0jtw",
        "outputId": "e4fc8452-4a01-4a8b-a1a4-3af04b6ce142"
      },
      "source": [
        "print(list(models_list.keys()))\n",
        "print(list(models_list.values()))"
      ],
      "execution_count": null,
      "outputs": [
        {
          "output_type": "stream",
          "name": "stdout",
          "text": [
            "['LogisticRegression', 'RandomForestClassifier', 'DecisionTreeClassifier', 'SVC']\n",
            "[LogisticRegression(), RandomForestClassifier(criterion='entropy', n_estimators=10, random_state=5), DecisionTreeClassifier(criterion='entropy', random_state=0), SVC(kernel='linear', probability=True)]\n"
          ]
        }
      ]
    },
    {
      "cell_type": "code",
      "metadata": {
        "id": "vM5g8zTz01_e"
      },
      "source": [
        "# Define the function for confision metric Graphs\n",
        "\n",
        "def cm_metrix_graph(cm):\n",
        "    sns.heatmap(cm,annot=True,fmt=\"d\")\n",
        "    plt.show()"
      ],
      "execution_count": null,
      "outputs": []
    },
    {
      "cell_type": "code",
      "metadata": {
        "colab": {
          "base_uri": "https://localhost:8080/"
        },
        "id": "QdKelHzO09ll",
        "outputId": "48c263d4-99a8-41d9-d476-b8bdfbac611f"
      },
      "source": [
        "df_prediction = []\n",
        "confusion_matrixs = []\n",
        "df_prediction_cols = [ 'model_name', 'score', 'accuracy_score' , \"accuracy_percentage\"]\n",
        "\n",
        "for name, model in zip(list(models_list.keys()), list(models_list.values())):\n",
        "    (score, accuracy, predictions) = model_building(model, X_train_pca, X_test_pca, y_train, y_test )\n",
        "    print(\"\\n\\nClassification Report of '\"+ str(name), \"'\\n\")\n",
        "    print(classification_report(y_test, predictions))\n",
        "    df_prediction.append([name, score, accuracy, \"{0:.2%}\".format(accuracy)])\n",
        "    # For Showing Metrics\n",
        "    confusion_matrixs.append(confusion_matrix(y_test, predictions))\n",
        "    \n",
        "        \n",
        "df_pred = pd.DataFrame(df_prediction, columns=df_prediction_cols)"
      ],
      "execution_count": null,
      "outputs": [
        {
          "output_type": "stream",
          "name": "stdout",
          "text": [
            "\n",
            "\n",
            "Classification Report of 'LogisticRegression '\n",
            "\n",
            "              precision    recall  f1-score   support\n",
            "\n",
            "           0       0.97      0.98      0.98       115\n",
            "           1       0.97      0.96      0.97        73\n",
            "\n",
            "    accuracy                           0.97       188\n",
            "   macro avg       0.97      0.97      0.97       188\n",
            "weighted avg       0.97      0.97      0.97       188\n",
            "\n",
            "\n",
            "\n",
            "Classification Report of 'RandomForestClassifier '\n",
            "\n",
            "              precision    recall  f1-score   support\n",
            "\n",
            "           0       0.93      0.97      0.95       115\n",
            "           1       0.94      0.89      0.92        73\n",
            "\n",
            "    accuracy                           0.94       188\n",
            "   macro avg       0.94      0.93      0.93       188\n",
            "weighted avg       0.94      0.94      0.94       188\n",
            "\n",
            "\n",
            "\n",
            "Classification Report of 'DecisionTreeClassifier '\n",
            "\n",
            "              precision    recall  f1-score   support\n",
            "\n",
            "           0       0.94      0.91      0.93       115\n",
            "           1       0.87      0.90      0.89        73\n",
            "\n",
            "    accuracy                           0.91       188\n",
            "   macro avg       0.90      0.91      0.91       188\n",
            "weighted avg       0.91      0.91      0.91       188\n",
            "\n",
            "\n",
            "\n",
            "Classification Report of 'SVC '\n",
            "\n",
            "              precision    recall  f1-score   support\n",
            "\n",
            "           0       0.97      0.97      0.97       115\n",
            "           1       0.95      0.96      0.95        73\n",
            "\n",
            "    accuracy                           0.96       188\n",
            "   macro avg       0.96      0.96      0.96       188\n",
            "weighted avg       0.96      0.96      0.96       188\n",
            "\n"
          ]
        }
      ]
    },
    {
      "cell_type": "markdown",
      "metadata": {
        "id": "aPolD0TU1VFs"
      },
      "source": [
        "## 2. L1 regularization using LogistcRegression "
      ]
    },
    {
      "cell_type": "code",
      "metadata": {
        "id": "h_DHguKFCNvI",
        "colab": {
          "base_uri": "https://localhost:8080/"
        },
        "outputId": "15a9dbe1-9b48-4c0d-e4fe-02db68800bf7"
      },
      "source": [
        "from sklearn.linear_model import LogisticRegression\n",
        "\n",
        "Logistic_l1 = LogisticRegression(penalty='l1',solver='liblinear')\n",
        "Logistic_l1.fit(X_train,y_train)\n",
        "Logistic_l1.coef_"
      ],
      "execution_count": null,
      "outputs": [
        {
          "output_type": "execute_result",
          "data": {
            "text/plain": [
              "array([[ 0.00000000e+00,  5.98887756e-02,  0.00000000e+00,\n",
              "         0.00000000e+00,  0.00000000e+00,  0.00000000e+00,\n",
              "         0.00000000e+00,  1.43467139e+00,  0.00000000e+00,\n",
              "         0.00000000e+00,  1.70422373e+00,  0.00000000e+00,\n",
              "         0.00000000e+00,  0.00000000e+00,  2.57162841e-01,\n",
              "        -7.79715332e-01,  0.00000000e+00,  0.00000000e+00,\n",
              "         0.00000000e+00, -4.54754847e-03,  0.00000000e+00,\n",
              "         1.50414802e+00,  0.00000000e+00,  5.14686224e+00,\n",
              "         2.37719161e-01,  0.00000000e+00,  7.54386951e-01,\n",
              "         1.20820942e+00,  5.08502900e-01,  0.00000000e+00]])"
            ]
          },
          "metadata": {},
          "execution_count": 44
        }
      ]
    },
    {
      "cell_type": "code",
      "metadata": {
        "colab": {
          "base_uri": "https://localhost:8080/"
        },
        "id": "zdgNEHy21k5H",
        "outputId": "810d682e-0733-43fa-ef59-415fbb93077a"
      },
      "source": [
        "# Removing the weights that have zero weights in the coefficients of the L1_Logistic\n",
        "binary_array =(np.abs(Logistic_l1.coef_)>0).flatten()\n",
        "print(binary_array)\n",
        "X_train_l1 = X_train[:,binary_array]\n",
        "X_test_l1 = X_test[:,binary_array]\n",
        "print(X_train_l1.shape)\n",
        "print(X_test_l1.shape)"
      ],
      "execution_count": null,
      "outputs": [
        {
          "output_type": "stream",
          "name": "stdout",
          "text": [
            "[False  True False False False False False  True False False  True False\n",
            " False False  True  True False False False  True False  True False  True\n",
            "  True False  True  True  True False]\n",
            "(381, 12)\n",
            "(188, 12)\n"
          ]
        }
      ]
    },
    {
      "cell_type": "code",
      "metadata": {
        "colab": {
          "base_uri": "https://localhost:8080/"
        },
        "id": "5OvStaX5kUOn",
        "outputId": "208e4cb2-bdfb-4dff-dffc-6425f5565229"
      },
      "source": [
        "a= list(bc_data.columns)\n",
        "for i,j in enumerate(binary_array):\n",
        "  if j ==True:\n",
        "    print(a[i])"
      ],
      "execution_count": null,
      "outputs": [
        {
          "output_type": "stream",
          "name": "stdout",
          "text": [
            "diagnosis\n",
            "compactness_mean\n",
            "symmetry_mean\n",
            "perimeter_se\n",
            "area_se\n",
            "concave points_se\n",
            "fractal_dimension_se\n",
            "texture_worst\n",
            "perimeter_worst\n",
            "smoothness_worst\n",
            "compactness_worst\n",
            "concavity_worst\n"
          ]
        }
      ]
    },
    {
      "cell_type": "code",
      "metadata": {
        "id": "9LEGI-k7BKgQ"
      },
      "source": [
        "df_prediction = []\n",
        "confusion_matrixs = []\n",
        "df_prediction_cols = [ 'model_name', 'score', 'accuracy_score' , \"accuracy_percentage\"]\n",
        "\n",
        "for name, model in zip(list(models_list.keys()), list(models_list.values())):\n",
        "    (score, accuracy, predictions) = model_building(model, X_train_l1, X_test_l1, y_train, y_test )\n",
        "    print(\"\\n\\nClassification Report of '\"+ str(name), \"'\\n\")\n",
        "    print(classification_report(y_test, predictions))\n",
        "    df_prediction.append([name, score, accuracy, \"{0:.2%}\".format(accuracy)])\n",
        "    # For Showing Metrics\n",
        "    confusion_matrixs.append(confusion_matrix(y_test, predictions))\n",
        "    \n",
        "        \n",
        "df_pred = pd.DataFrame(df_prediction, columns=df_prediction_cols)"
      ],
      "execution_count": null,
      "outputs": []
    },
    {
      "cell_type": "code",
      "metadata": {
        "colab": {
          "base_uri": "https://localhost:8080/"
        },
        "id": "aYIeu2kfoA1f",
        "outputId": "cbf4452a-d2e3-42fe-d9eb-7c1485e27db9"
      },
      "source": [
        "print(X_train.shape)\n",
        "print(y_train.shape)"
      ],
      "execution_count": null,
      "outputs": [
        {
          "output_type": "stream",
          "name": "stdout",
          "text": [
            "(381, 30)\n",
            "(381,)\n"
          ]
        }
      ]
    },
    {
      "cell_type": "code",
      "metadata": {
        "colab": {
          "base_uri": "https://localhost:8080/"
        },
        "id": "n88LL9C7oI3i",
        "outputId": "618b7a76-dcd3-4e8b-adee-5986ca90b5a0"
      },
      "source": [
        "print(X_test.shape)\n",
        "print(y_test.shape)"
      ],
      "execution_count": null,
      "outputs": [
        {
          "output_type": "stream",
          "name": "stdout",
          "text": [
            "(188, 30)\n",
            "(188,)\n"
          ]
        }
      ]
    },
    {
      "cell_type": "markdown",
      "metadata": {
        "id": "GlhoAkES-hFF"
      },
      "source": [
        "### L1 Regularization Observation\n",
        "\n",
        "1. PCA gave the true dimesion of  data which is 3, using l1 panalyty we drove the wegiths to zero to see which features are important."
      ]
    },
    {
      "cell_type": "markdown",
      "metadata": {
        "id": "T9xKMtz2Gb1H"
      },
      "source": [
        "## 3. RFE"
      ]
    },
    {
      "cell_type": "code",
      "metadata": {
        "id": "f9jnP5pjDaYe"
      },
      "source": [
        "def model_building2(model, X_train, X_test, y_train, y_test):\n",
        "    \"\"\"\n",
        "    Model Fitting, Prediction And Other stuff\n",
        "    return ('score', 'accuracy_score', 'predictions' )\n",
        "    \"\"\"\n",
        "    cv = StratifiedKFold(5)\n",
        "    visualizer = RFECV(model, cv=cv, scoring='f1_weighted')\n",
        "    visualizer.fit(X_train, y_train)        # Fit the data to the visualizer\n",
        "    visualizer.show()           # Finalize and render the figure\n",
        "    \n",
        "    score = visualizer.score(X_train, y_train)\n",
        "    predictions = visualizer.predict(X_test)\n",
        "    accuracy = accuracy_score(predictions, y_test)\n",
        "\n",
        "    return (score, accuracy, predictions)"
      ],
      "execution_count": null,
      "outputs": []
    },
    {
      "cell_type": "code",
      "metadata": {
        "colab": {
          "base_uri": "https://localhost:8080/",
          "height": 351
        },
        "id": "_eO5EEaNEJa7",
        "outputId": "8e75dcb8-28b1-47e4-bd36-bf4f7184a9fc"
      },
      "source": [
        "df_prediction = []\n",
        "confusion_matrixs = []\n",
        "df_prediction_cols = [ 'model_name', 'score', 'accuracy_score' , \"accuracy_percentage\"]\n",
        "\n",
        "for name, model in zip(list(models_list.keys()), list(models_list.values())):\n",
        "    (score, accuracy, predictions) = model_building2(model, X_train, X_test, y_train, y_test )\n",
        "    print(\"\\n\\nClassification Report of '\"+ str(name), \"'\\n\")\n",
        "    print(classification_report(y_test, predictions))\n",
        "    df_prediction.append([name, score, accuracy, \"{0:.2%}\".format(accuracy)])\n",
        "    # For Showing Metrics\n",
        "    confusion_matrixs.append(confusion_matrix(y_test, predictions))\n",
        "    \n",
        "        \n",
        "df_pred = pd.DataFrame(df_prediction, columns=df_prediction_cols)"
      ],
      "execution_count": null,
      "outputs": [
        {
          "output_type": "error",
          "ename": "NameError",
          "evalue": "ignored",
          "traceback": [
            "\u001b[0;31m---------------------------------------------------------------------------\u001b[0m",
            "\u001b[0;31mNameError\u001b[0m                                 Traceback (most recent call last)",
            "\u001b[0;32m<ipython-input-61-c7ee4b2cfd13>\u001b[0m in \u001b[0;36m<module>\u001b[0;34m()\u001b[0m\n\u001b[1;32m      4\u001b[0m \u001b[0;34m\u001b[0m\u001b[0m\n\u001b[1;32m      5\u001b[0m \u001b[0;32mfor\u001b[0m \u001b[0mname\u001b[0m\u001b[0;34m,\u001b[0m \u001b[0mmodel\u001b[0m \u001b[0;32min\u001b[0m \u001b[0mzip\u001b[0m\u001b[0;34m(\u001b[0m\u001b[0mlist\u001b[0m\u001b[0;34m(\u001b[0m\u001b[0mmodels_list\u001b[0m\u001b[0;34m.\u001b[0m\u001b[0mkeys\u001b[0m\u001b[0;34m(\u001b[0m\u001b[0;34m)\u001b[0m\u001b[0;34m)\u001b[0m\u001b[0;34m,\u001b[0m \u001b[0mlist\u001b[0m\u001b[0;34m(\u001b[0m\u001b[0mmodels_list\u001b[0m\u001b[0;34m.\u001b[0m\u001b[0mvalues\u001b[0m\u001b[0;34m(\u001b[0m\u001b[0;34m)\u001b[0m\u001b[0;34m)\u001b[0m\u001b[0;34m)\u001b[0m\u001b[0;34m:\u001b[0m\u001b[0;34m\u001b[0m\u001b[0;34m\u001b[0m\u001b[0m\n\u001b[0;32m----> 6\u001b[0;31m     \u001b[0;34m(\u001b[0m\u001b[0mscore\u001b[0m\u001b[0;34m,\u001b[0m \u001b[0maccuracy\u001b[0m\u001b[0;34m,\u001b[0m \u001b[0mpredictions\u001b[0m\u001b[0;34m)\u001b[0m \u001b[0;34m=\u001b[0m \u001b[0mmodel_building2\u001b[0m\u001b[0;34m(\u001b[0m\u001b[0mmodel\u001b[0m\u001b[0;34m,\u001b[0m \u001b[0mX_train\u001b[0m\u001b[0;34m,\u001b[0m \u001b[0mX_test\u001b[0m\u001b[0;34m,\u001b[0m \u001b[0my_train\u001b[0m\u001b[0;34m,\u001b[0m \u001b[0my_test\u001b[0m \u001b[0;34m)\u001b[0m\u001b[0;34m\u001b[0m\u001b[0;34m\u001b[0m\u001b[0m\n\u001b[0m\u001b[1;32m      7\u001b[0m     \u001b[0mprint\u001b[0m\u001b[0;34m(\u001b[0m\u001b[0;34m\"\\n\\nClassification Report of '\"\u001b[0m\u001b[0;34m+\u001b[0m \u001b[0mstr\u001b[0m\u001b[0;34m(\u001b[0m\u001b[0mname\u001b[0m\u001b[0;34m)\u001b[0m\u001b[0;34m,\u001b[0m \u001b[0;34m\"'\\n\"\u001b[0m\u001b[0;34m)\u001b[0m\u001b[0;34m\u001b[0m\u001b[0;34m\u001b[0m\u001b[0m\n\u001b[1;32m      8\u001b[0m     \u001b[0mprint\u001b[0m\u001b[0;34m(\u001b[0m\u001b[0mclassification_report\u001b[0m\u001b[0;34m(\u001b[0m\u001b[0my_test\u001b[0m\u001b[0;34m,\u001b[0m \u001b[0mpredictions\u001b[0m\u001b[0;34m)\u001b[0m\u001b[0;34m)\u001b[0m\u001b[0;34m\u001b[0m\u001b[0;34m\u001b[0m\u001b[0m\n",
            "\u001b[0;32m<ipython-input-60-1935876499c8>\u001b[0m in \u001b[0;36mmodel_building2\u001b[0;34m(model, X_train, X_test, y_train, y_test)\u001b[0m\n\u001b[1;32m      4\u001b[0m     \u001b[0;32mreturn\u001b[0m \u001b[0;34m(\u001b[0m\u001b[0;34m'score'\u001b[0m\u001b[0;34m,\u001b[0m \u001b[0;34m'accuracy_score'\u001b[0m\u001b[0;34m,\u001b[0m \u001b[0;34m'predictions'\u001b[0m \u001b[0;34m)\u001b[0m\u001b[0;34m\u001b[0m\u001b[0;34m\u001b[0m\u001b[0m\n\u001b[1;32m      5\u001b[0m     \"\"\"\n\u001b[0;32m----> 6\u001b[0;31m     \u001b[0mcv\u001b[0m \u001b[0;34m=\u001b[0m \u001b[0mStratifiedKFold\u001b[0m\u001b[0;34m(\u001b[0m\u001b[0;36m5\u001b[0m\u001b[0;34m)\u001b[0m\u001b[0;34m\u001b[0m\u001b[0;34m\u001b[0m\u001b[0m\n\u001b[0m\u001b[1;32m      7\u001b[0m     \u001b[0mvisualizer\u001b[0m \u001b[0;34m=\u001b[0m \u001b[0mRFECV\u001b[0m\u001b[0;34m(\u001b[0m\u001b[0mmodel\u001b[0m\u001b[0;34m,\u001b[0m \u001b[0mcv\u001b[0m\u001b[0;34m=\u001b[0m\u001b[0mcv\u001b[0m\u001b[0;34m,\u001b[0m \u001b[0mscoring\u001b[0m\u001b[0;34m=\u001b[0m\u001b[0;34m'f1_weighted'\u001b[0m\u001b[0;34m)\u001b[0m\u001b[0;34m\u001b[0m\u001b[0;34m\u001b[0m\u001b[0m\n\u001b[1;32m      8\u001b[0m     \u001b[0mvisualizer\u001b[0m\u001b[0;34m.\u001b[0m\u001b[0mfit\u001b[0m\u001b[0;34m(\u001b[0m\u001b[0mX_train\u001b[0m\u001b[0;34m,\u001b[0m \u001b[0my_train\u001b[0m\u001b[0;34m)\u001b[0m        \u001b[0;31m# Fit the data to the visualizer\u001b[0m\u001b[0;34m\u001b[0m\u001b[0;34m\u001b[0m\u001b[0m\n",
            "\u001b[0;31mNameError\u001b[0m: name 'StratifiedKFold' is not defined"
          ]
        }
      ]
    },
    {
      "cell_type": "markdown",
      "metadata": {
        "id": "0cYCgmTwkOw0"
      },
      "source": [
        "# Feature Selection using Genetic Algorithms"
      ]
    },
    {
      "cell_type": "code",
      "metadata": {
        "id": "CXe-rK3ckT5V"
      },
      "source": [
        ""
      ],
      "execution_count": null,
      "outputs": []
    },
    {
      "cell_type": "code",
      "metadata": {
        "id": "zHlNs7TPE2lu"
      },
      "source": [
        "! pip install sklearn-genetic"
      ],
      "execution_count": null,
      "outputs": []
    },
    {
      "cell_type": "code",
      "metadata": {
        "id": "xhdYa5jmEvnk"
      },
      "source": [
        "from genetic_selection import GeneticSelectionCV"
      ],
      "execution_count": null,
      "outputs": []
    },
    {
      "cell_type": "code",
      "metadata": {
        "id": "JLsbp1aQFda-"
      },
      "source": [
        "def model_building3(model, X_train, X_test, y_train, y_test):\n",
        "    \"\"\"\n",
        "    return ('score', 'accuracy_score', 'predictions' )\n",
        "    \"\"\"\n",
        "    Genetic_Algorithm = GeneticSelectionCV(\n",
        "    model, cv=5, verbose=2,\n",
        "    scoring=\"accuracy\", max_features=30,\n",
        "    n_population=100, crossover_proba=0.5,\n",
        "    mutation_proba=0.2, n_generations=50,\n",
        "    crossover_independent_proba=0.5,\n",
        "    mutation_independent_proba=0.04,\n",
        "    tournament_size=3, n_gen_no_change=10,\n",
        "    caching=True, n_jobs=-1)\n",
        "    Genetic_Algorithm.fit(X_train, y_train)\n",
        "    print(\"Number of Features are \",Genetic_Algorithm.transform(X_train).shape[1])\n",
        "    print(Genetic_Algorithm.support_)\n",
        "\n",
        "    \n",
        "    score = Genetic_Algorithm.score(X_train, y_train)\n",
        "    predictions = Genetic_Algorithm.predict(X_test)\n",
        "    accuracy = accuracy_score(predictions, y_test)\n",
        "\n",
        "    return (score, accuracy, predictions)"
      ],
      "execution_count": null,
      "outputs": []
    },
    {
      "cell_type": "code",
      "metadata": {
        "colab": {
          "base_uri": "https://localhost:8080/"
        },
        "id": "djF4MYTqos21",
        "outputId": "0d013fbc-1f56-4bb6-d46a-ae5210c389c5"
      },
      "source": [
        "print(X_train.shape)\n",
        "print(X_test.shape)\n",
        "print(y_train.shape)\n",
        "print(y_test.shape)"
      ],
      "execution_count": null,
      "outputs": [
        {
          "output_type": "stream",
          "name": "stdout",
          "text": [
            "(381, 30)\n",
            "(188, 30)\n",
            "(381,)\n",
            "(188,)\n"
          ]
        }
      ]
    },
    {
      "cell_type": "code",
      "metadata": {
        "id": "5kiErQUvF71r",
        "colab": {
          "base_uri": "https://localhost:8080/"
        },
        "outputId": "b48f1592-e50b-45a1-a739-69e53544bcda"
      },
      "source": [
        "df_prediction = []\n",
        "confusion_matrixs = []\n",
        "df_prediction_cols = [ 'model_name', 'score', 'accuracy_score' , \"accuracy_percentage\"]\n",
        "\n",
        "for name, model in zip(list(models_list.keys()), list(models_list.values())):\n",
        "    (score, accuracy, predictions) = model_building3(model, X_train, X_test, y_train, y_test )\n",
        "    print(\"\\n\\nClassification Report of '\"+ str(name), \"'\\n\")\n",
        "    print(classification_report(y_test, predictions))\n",
        "    df_prediction.append([name, score, accuracy, \"{0:.2%}\".format(accuracy)])\n",
        "    # For Showing Metrics\n",
        "    confusion_matrixs.append(confusion_matrix(y_test, predictions))\n",
        "    \n",
        "        \n",
        "df_pred = pd.DataFrame(df_prediction, columns=df_prediction_cols)"
      ],
      "execution_count": null,
      "outputs": [
        {
          "output_type": "stream",
          "name": "stdout",
          "text": [
            "Selecting features with genetic algorithm.\n",
            "gen\tnevals\tavg                      \tstd                    \tmin                    \tmax                      \n",
            "0  \t100   \t[ 0.93086637 13.87      ]\t[0.09308935 9.43997352]\t[0.62727273 1.        ]\t[ 0.98427888 30.        ]\n",
            "1  \t69    \t[ 0.97464252 19.15      ]\t[0.00939602 6.23598428]\t[0.93171565 4.        ]\t[ 0.98684211 30.        ]\n",
            "2  \t59    \t[ 0.9790499 21.09     ]  \t[0.005284   4.29905804]\t[ 0.94483937 11.        ]\t[ 0.98684211 30.        ]\n",
            "3  \t54    \t[ 0.98112679 21.83      ]\t[0.0052853  3.19704551]\t[ 0.95266576 11.        ]\t[ 0.98684211 29.        ]\n",
            "4  \t57    \t[ 0.98270301 22.37      ]\t[0.00319891 2.62547139]\t[ 0.97368421 17.        ]\t[ 0.98684211 27.        ]\n",
            "5  \t52    \t[ 0.98388688 22.1       ]\t[0.00333402 2.80178515]\t[ 0.96578947 16.        ]\t[ 0.98947368 27.        ]\n",
            "6  \t69    \t[ 0.98230895 21.7       ]\t[0.00750145 2.08566536]\t[ 0.94747095 17.        ]\t[ 0.99210526 27.        ]\n",
            "7  \t66    \t[ 0.98398872 21.84      ]\t[0.00611325 1.80399557]\t[ 0.94747095 17.        ]\t[ 0.99210526 26.        ]\n",
            "8  \t54    \t[ 0.98553657 21.59      ]\t[0.00427784 1.48388005]\t[ 0.96056049 16.        ]\t[ 0.99210526 26.        ]\n",
            "9  \t49    \t[ 0.98695933 21.31      ]\t[0.00354197 1.60433787]\t[ 0.96319207 18.        ]\t[ 0.99210526 26.        ]\n",
            "10 \t60    \t[ 0.98830075 21.11      ]\t[0.00300192 1.69643744]\t[ 0.97898154 17.        ]\t[ 0.99210526 25.        ]\n",
            "11 \t61    \t[ 0.98869446 20.45      ]\t[0.00481904 1.60234204]\t[ 0.95536569 17.        ]\t[ 0.99210526 24.        ]\n",
            "12 \t68    \t[ 0.98998223 19.75      ]\t[0.00339503 1.57082781]\t[ 0.96585783 16.        ]\t[ 0.99210526 24.        ]\n",
            "13 \t58    \t[ 0.99079255 19.35      ]\t[0.00258609 1.49248116]\t[ 0.97898154 16.        ]\t[ 0.99210526 23.        ]\n",
            "14 \t66    \t[ 0.99023958 18.76      ]\t[0.00281182 1.15861987]\t[ 0.97898154 16.        ]\t[ 0.99210526 23.        ]\n",
            "15 \t58    \t[ 0.99029084 18.52      ]\t[0.00267372 1.34521374]\t[ 0.97894737 14.        ]\t[ 0.99210526 23.        ]\n",
            "16 \t52    \t[ 0.99026487 18.47      ]\t[0.00440573 1.03397292]\t[ 0.96056049 15.        ]\t[ 0.99210526 20.        ]\n",
            "17 \t59    \t[ 0.99131647 18.75      ]\t[0.00183996 0.86458082]\t[ 0.98421053 16.        ]\t[ 0.99210526 21.        ]\n",
            "18 \t54    \t[ 0.99137013 18.43      ]\t[0.0017826  0.99252204]\t[ 0.9842447 16.       ]  \t[ 0.99210526 21.        ]\n",
            "19 \t63    \t[ 0.99150137 17.87      ]\t[0.00188757 1.39035967]\t[ 0.98421053 14.        ]\t[ 0.99210526 21.        ]\n",
            "20 \t63    \t[ 0.991054 17.02    ]    \t[0.00400193 1.10435502]\t[ 0.96582365 14.        ]\t[ 0.99210526 19.        ]\n",
            "21 \t73    \t[ 0.991027 16.04    ]    \t[0.00350921 1.16550418]\t[ 0.96319207 13.        ]\t[ 0.99210526 19.        ]\n",
            "22 \t54    \t[ 0.99107963 15.21      ]\t[0.00328101 1.12512222]\t[ 0.96582365 13.        ]\t[ 0.99210526 19.        ]\n",
            "23 \t58    \t[ 0.991527 14.6     ]    \t[0.00184338 0.91651514]\t[ 0.98157895 12.        ]\t[ 0.99210526 17.        ]\n",
            "24 \t63    \t[ 0.99115858 14.07      ]\t[0.00322881 0.94079753]\t[ 0.96585783 11.        ]\t[ 0.99473684 18.        ]\n",
            "25 \t65    \t[ 0.9915 13.63  ]        \t[0.00219717 0.83252628]\t[ 0.97894737 12.        ]\t[ 0.99473684 17.        ]\n",
            "26 \t59    \t[ 0.99142139 13.14      ]\t[0.00218904 0.78765475]\t[ 0.98157895 11.        ]\t[ 0.99473684 17.        ]\n",
            "27 \t58    \t[ 0.99205332 12.78      ]\t[0.00222834 0.94424573]\t[ 0.97901572 10.        ]\t[ 0.99473684 15.        ]\n",
            "28 \t64    \t[ 0.99255332 12.44      ]\t[0.00238296 0.94148818]\t[0.98157895 9.        ]  \t[ 0.99473684 14.        ]\n",
            "29 \t61    \t[ 0.99355263 12.47      ]\t[0.00261508 1.05313817]\t[ 0.97368421 10.        ]\t[ 0.99473684 16.        ]\n",
            "30 \t60    \t[ 0.99373787 11.95      ]\t[0.00321357 1.15217186]\t[ 0.96845523 10.        ]\t[ 0.99473684 15.        ]\n",
            "31 \t52    \t[ 0.99392208 11.37      ]\t[0.00251143 0.77012986]\t[ 0.97898154 10.        ]\t[ 0.99473684 13.        ]\n",
            "32 \t62    \t[ 0.99363192 11.18      ]\t[0.00337148 0.77948701]\t[0.97108681 7.        ]  \t[ 0.99473684 14.        ]\n",
            "33 \t71    \t[ 0.99397505 11.03      ]\t[0.00348807 0.33030289]\t[ 0.96848941 10.        ]\t[ 0.99473684 13.        ]\n",
            "34 \t58    \t[ 0.994027 11.04    ]    \t[0.00262247 0.42237424]\t[0.97375256 9.        ]  \t[ 0.99473684 13.        ]\n",
            "35 \t58    \t[ 0.99400103 11.02      ]\t[0.00377155 0.37363083]\t[0.96059467 9.        ]  \t[ 0.99473684 13.        ]\n",
            "36 \t70    \t[ 0.99407929 11.01      ]\t[0.00214845 0.29983329]\t[ 0.98421053 10.        ]\t[ 0.99473684 12.        ]\n",
            "37 \t61    \t[ 0.99352768 11.17      ]\t[0.00419238 0.56665686]\t[ 0.96585783 10.        ]\t[ 0.99473684 13.        ]\n",
            "Number of Features are  11\n",
            "[False False False False False False False  True False False False False\n",
            " False  True  True  True False False False False  True  True  True  True\n",
            " False False  True  True  True False]\n",
            "\n",
            "\n",
            "Classification Report of 'LogisticRegression '\n",
            "\n",
            "              precision    recall  f1-score   support\n",
            "\n",
            "           0       0.96      0.97      0.97       115\n",
            "           1       0.96      0.93      0.94        73\n",
            "\n",
            "    accuracy                           0.96       188\n",
            "   macro avg       0.96      0.95      0.95       188\n",
            "weighted avg       0.96      0.96      0.96       188\n",
            "\n",
            "Selecting features with genetic algorithm.\n",
            "gen\tnevals\tavg                      \tstd                    \tmin                    \tmax                      \n",
            "0  \t100   \t[ 0.93297881 15.78      ]\t[0.06223873 8.79724957]\t[0.57488038 1.        ]\t[ 0.96592618 30.        ]\n",
            "1  \t64    \t[ 0.95454033 19.09      ]\t[0.00805689 6.75143688]\t[0.91855776 3.        ]\t[ 0.97112098 30.        ]\n",
            "2  \t56    \t[ 0.95829426 19.24      ]\t[0.0067404 6.2882748]  \t[0.93957621 3.        ]\t[ 0.97371839 30.        ]\n",
            "3  \t65    \t[ 0.95885065 17.76      ]\t[0.00755092 5.72384486]\t[0.93701299 4.        ]\t[ 0.97371839 30.        ]\n",
            "4  \t61    \t[ 0.96050376 17.5       ]\t[0.00823504 5.24309069]\t[0.92132604 7.        ]\t[ 0.97371839 28.        ]\n",
            "5  \t59    \t[ 0.96165379 17.42      ]\t[0.00749574 4.94202388]\t[0.94747095 7.        ]\t[ 0.97371839 25.        ]\n",
            "6  \t55    \t[ 0.96374983 18.83      ]\t[0.00875657 4.0001375 ]\t[0.93168148 7.        ]\t[ 0.97638414 24.        ]\n",
            "7  \t61    \t[ 0.96424812 19.51      ]\t[0.0082611  3.63729295]\t[0.93694463 8.        ]\t[ 0.97638414 25.        ]\n",
            "8  \t53    \t[ 0.96676487 19.62      ]\t[0.00803907 3.35195465]\t[0.94224197 8.        ]\t[ 0.97638414 25.        ]\n",
            "9  \t61    \t[ 0.96783869 19.5       ]\t[0.00759834 2.93087018]\t[ 0.93961039 11.        ]\t[ 0.97901572 24.        ]\n",
            "10 \t56    \t[ 0.96898804 19.79      ]\t[0.00765554 2.05569939]\t[ 0.94750513 11.        ]\t[ 0.97901572 22.        ]\n",
            "11 \t54    \t[ 0.96948872 19.99      ]\t[0.00744477 1.45941769]\t[ 0.94224197 16.        ]\t[ 0.97901572 22.        ]\n",
            "12 \t61    \t[ 0.9681514 19.89     ]  \t[0.0077958  1.44841292]\t[ 0.95010253 15.        ]\t[ 0.97901572 22.        ]\n",
            "13 \t62    \t[ 0.96899077 20.14      ]\t[0.00749028 1.24915972]\t[ 0.95013671 17.        ]\t[ 0.97901572 22.        ]\n",
            "14 \t55    \t[ 0.96946343 20.03      ]\t[0.00757616 1.37444534]\t[ 0.94750513 17.        ]\t[ 0.97901572 23.        ]\n",
            "15 \t41    \t[ 0.9711702 19.67     ]  \t[0.00683728 1.46324981]\t[ 0.95276828 16.        ]\t[ 0.97901572 22.        ]\n",
            "16 \t53    \t[ 0.97047539 18.84      ]\t[0.00856964 1.31696621]\t[ 0.95006835 16.        ]\t[ 0.97901572 21.        ]\n",
            "17 \t51    \t[ 0.97229084 18.23      ]\t[0.00839149 0.95765338]\t[ 0.94490772 16.        ]\t[ 0.97901572 21.        ]\n",
            "18 \t71    \t[ 0.9724255 17.98     ]  \t[0.00907412 0.63213923]\t[ 0.94220779 16.        ]\t[ 0.97901572 20.        ]\n",
            "19 \t55    \t[ 0.97357861 17.93      ]\t[0.00907006 0.71070388]\t[ 0.94750513 15.        ]\t[ 0.97901572 20.        ]\n",
            "Number of Features are  18\n",
            "[False  True False False  True False  True False False False  True False\n",
            "  True False  True  True  True  True  True False  True  True  True  True\n",
            "  True False  True  True  True False]\n",
            "\n",
            "\n",
            "Classification Report of 'RandomForestClassifier '\n",
            "\n",
            "              precision    recall  f1-score   support\n",
            "\n",
            "           0       0.93      0.97      0.95       115\n",
            "           1       0.96      0.88      0.91        73\n",
            "\n",
            "    accuracy                           0.94       188\n",
            "   macro avg       0.94      0.93      0.93       188\n",
            "weighted avg       0.94      0.94      0.94       188\n",
            "\n",
            "Selecting features with genetic algorithm.\n",
            "gen\tnevals\tavg                      \tstd                    \tmin                    \tmax                      \n",
            "0  \t100   \t[ 0.90711859 14.31      ]\t[0.07076424 8.39606455]\t[0.52484621 1.        ]\t[ 0.95529733 30.        ]\n",
            "1  \t51    \t[ 0.93835885 19.23      ]\t[0.00950486 5.18431288]\t[0.91059467 5.        ]\t[ 0.95799727 30.        ]\n",
            "2  \t66    \t[ 0.94311005 18.73      ]\t[0.00872254 4.75364071]\t[0.91859193 7.        ]\t[ 0.96062884 28.        ]\n",
            "3  \t55    \t[ 0.94702461 18.21      ]\t[0.00846851 4.87092394]\t[0.9132946 7.       ]  \t[ 0.96062884 28.        ]\n",
            "4  \t69    \t[ 0.94963329 15.99      ]\t[0.0082927  4.36461911]\t[0.9132946 7.       ]  \t[ 0.96322625 25.        ]\n",
            "5  \t67    \t[ 0.95229221 14.38      ]\t[0.00692517 3.66      ]\t[0.93171565 7.        ]\t[ 0.96326042 25.        ]\n",
            "6  \t59    \t[ 0.9538445 14.24     ]  \t[0.00860794 2.7426994 ]\t[0.92911825 7.        ]\t[ 0.96326042 21.        ]\n",
            "7  \t63    \t[ 0.95586842 14.21      ]\t[0.00602971 2.47505555]\t[0.92911825 7.        ]\t[ 0.96326042 20.        ]\n",
            "8  \t70    \t[ 0.95725735 14.22      ]\t[0.00702785 2.36888159]\t[0.92108681 8.        ]\t[ 0.96326042 20.        ]\n",
            "9  \t65    \t[ 0.95856767 14.1       ]\t[0.00466735 2.42280829]\t[ 0.94220779 10.        ]\t[ 0.96585783 20.        ]\n",
            "10 \t63    \t[ 0.95940636 13.46      ]\t[0.00521418 2.04655809]\t[ 0.93697881 10.        ]\t[ 0.96585783 20.        ]\n",
            "11 \t59    \t[ 0.96050239 12.86      ]\t[0.00504712 2.16342321]\t[0.93967874 9.        ]  \t[ 0.96585783 20.        ]\n",
            "12 \t45    \t[ 0.96200171 12.23      ]\t[0.00462391 2.1111845 ]\t[ 0.94220779 10.        ]\t[ 0.96585783 20.        ]\n",
            "13 \t54    \t[ 0.96278742 11.66      ]\t[0.00485549 1.88796186]\t[0.93961039 9.        ]  \t[ 0.96852358 21.        ]\n",
            "14 \t60    \t[ 0.96273377 11.49      ]\t[0.00676317 1.47983107]\t[0.93168148 9.        ]  \t[ 0.96852358 17.        ]\n",
            "15 \t66    \t[ 0.96396719 11.38      ]\t[0.00563915 1.34      ]\t[0.9316473 7.       ]    \t[ 0.96852358 17.        ]\n",
            "16 \t57    \t[ 0.96438859 11.33      ]\t[0.00458695 1.33457859]\t[0.93961039 8.        ]  \t[ 0.96852358 17.        ]\n",
            "17 \t60    \t[ 0.96381681 11.79      ]\t[0.00446321 1.60807338]\t[ 0.94483937 10.        ]\t[ 0.96852358 17.        ]\n",
            "18 \t52    \t[ 0.96371326 12.02      ]\t[0.00455536 1.8760597 ]\t[0.94747095 9.        ]  \t[ 0.96855776 17.        ]\n",
            "19 \t63    \t[ 0.96215311 13.06      ]\t[0.00804068 2.32301528]\t[ 0.92382092 10.        ]\t[ 0.96855776 18.        ]\n",
            "20 \t62    \t[ 0.96357792 13.39      ]\t[0.00578612 2.20859684]\t[ 0.93957621 10.        ]\t[ 0.97115516 18.        ]\n",
            "21 \t61    \t[ 0.964689 14.33    ]    \t[0.00610888 2.31971981]\t[ 0.93434723 10.        ]\t[ 0.97638414 19.        ]\n",
            "22 \t54    \t[ 0.96689781 13.79      ]\t[0.00479363 2.2104072 ]\t[ 0.94490772 10.        ]\t[ 0.97638414 17.        ]\n",
            "23 \t63    \t[ 0.96850034 13.08      ]\t[0.0049403  1.74745529]\t[ 0.9475393 10.       ]  \t[ 0.97638414 18.        ]\n",
            "24 \t64    \t[ 0.96797163 12.46      ]\t[0.00730966 1.4171803 ]\t[0.93171565 9.        ]  \t[ 0.97638414 17.        ]\n",
            "25 \t58    \t[ 0.96891456 12.22      ]\t[0.00793994 1.33850663]\t[0.93434723 9.        ]  \t[ 0.97638414 17.        ]\n",
            "26 \t54    \t[ 0.97130109 12.21      ]\t[0.0053475  1.11619891]\t[ 0.94487355 10.        ]\t[ 0.97638414 17.        ]\n",
            "27 \t58    \t[ 0.97161312 12.02      ]\t[0.00623595 1.00975244]\t[ 0.94487355 10.        ]\t[ 0.97638414 15.        ]\n",
            "28 \t46    \t[ 0.97405024 11.69      ]\t[0.00445352 1.00692602]\t[ 0.95536569 10.        ]\t[ 0.97638414 16.        ]\n",
            "29 \t57    \t[ 0.97365038 11.3       ]\t[0.00795662 0.78102497]\t[ 0.93694463 10.        ]\t[ 0.97638414 15.        ]\n",
            "30 \t59    \t[ 0.97430998 11.09      ]\t[0.00576643 0.51176166]\t[0.95010253 9.        ]  \t[ 0.97638414 13.        ]\n",
            "31 \t52    \t[ 0.97438688 11.07      ]\t[0.00502743 0.45287967]\t[ 0.95013671 10.        ]\t[ 0.97638414 13.        ]\n",
            "32 \t73    \t[ 0.97399077 10.98      ]\t[0.00675493 0.58275209]\t[0.94220779 9.        ]  \t[ 0.97638414 14.        ]\n",
            "Number of Features are  11\n",
            "[False  True False False False  True  True False  True  True False  True\n",
            " False False False False False  True  True False False  True  True  True\n",
            " False False False False False False]\n",
            "\n",
            "\n",
            "Classification Report of 'DecisionTreeClassifier '\n",
            "\n",
            "              precision    recall  f1-score   support\n",
            "\n",
            "           0       0.93      0.97      0.95       115\n",
            "           1       0.96      0.89      0.92        73\n",
            "\n",
            "    accuracy                           0.94       188\n",
            "   macro avg       0.94      0.93      0.94       188\n",
            "weighted avg       0.94      0.94      0.94       188\n",
            "\n",
            "Selecting features with genetic algorithm.\n",
            "gen\tnevals\tavg                      \tstd                    \tmin                  \tmax                    \n",
            "0  \t100   \t[ 0.94498565 13.24      ]\t[0.05497933 8.21841834]\t[0.6404648 1.       ]\t[ 0.9842447 30.       ]\n",
            "1  \t59    \t[ 0.97286671 19.71      ]\t[0.00948536 6.44871305]\t[0.93961039 2.        ]\t[ 0.98687628 30.        ]\n",
            "2  \t68    \t[ 0.97864286 21.32      ]\t[0.00636235 4.84330466]\t[ 0.94750513 10.        ]\t[ 0.98950786 30.        ]\n",
            "3  \t69    \t[ 0.98058612 21.11      ]\t[0.00608833 3.71185937]\t[ 0.95010253 11.        ]\t[ 0.99210526 30.        ]\n",
            "4  \t62    \t[ 0.983135 21.88    ]    \t[0.00579206 2.77229147]\t[ 0.96592618 15.        ]\t[ 0.99473684 28.        ]\n",
            "5  \t58    \t[ 0.98563021 21.9       ]\t[0.00464087 2.57875939]\t[ 0.97108681 16.        ]\t[ 0.99473684 28.        ]\n",
            "6  \t61    \t[ 0.986338 21.66    ]    \t[0.00660893 2.67290105]\t[ 0.95533151 15.        ]\t[ 0.99473684 27.        ]\n",
            "7  \t65    \t[ 0.9887799 21.25     ]  \t[0.00470662 2.1696774 ]\t[ 0.97375256 16.        ]\t[ 0.99473684 27.        ]\n",
            "8  \t54    \t[ 0.99022556 20.91      ]\t[0.00528823 2.02037125]\t[ 0.97112098 16.        ]\t[ 0.99473684 26.        ]\n",
            "9  \t47    \t[ 0.99248325 20.45      ]\t[0.00314842 1.59608897]\t[ 0.97898154 18.        ]\t[ 0.99473684 24.        ]\n",
            "10 \t56    \t[ 0.99256118 19.61      ]\t[0.00376729 1.26408069]\t[ 0.97631579 16.        ]\t[ 0.99473684 24.        ]\n",
            "11 \t63    \t[ 0.99297779 18.99      ]\t[0.00413538 0.69992857]\t[ 0.97634997 17.        ]\t[ 0.99473684 21.        ]\n",
            "12 \t63    \t[ 0.99245318 18.57      ]\t[0.00532725 0.7649183 ]\t[ 0.96578947 16.        ]\t[ 0.99477102 20.        ]\n",
            "13 \t59    \t[ 0.99347813 18.33      ]\t[0.00368282 0.77530639]\t[ 0.97634997 16.        ]\t[ 0.99477102 21.        ]\n",
            "14 \t45    \t[ 0.99353281 17.97      ]\t[0.00408657 0.79315824]\t[ 0.97112098 15.        ]\t[ 0.99477102 20.        ]\n",
            "15 \t60    \t[ 0.99314217 17.54      ]\t[0.00465236 0.68439755]\t[ 0.97105263 15.        ]\t[ 0.99477102 19.        ]\n",
            "16 \t69    \t[ 0.99299453 17.15      ]\t[0.0041894  0.73993243]\t[ 0.97105263 15.        ]\t[ 0.99477102 19.        ]\n",
            "17 \t60    \t[ 0.99289884 17.05      ]\t[0.00474786 0.58949131]\t[ 0.97105263 14.        ]\t[ 0.99477102 19.        ]\n",
            "18 \t49    \t[ 0.99366405 16.99      ]\t[0.00358646 0.49989999]\t[ 0.97638414 15.        ]\t[ 0.99477102 19.        ]\n",
            "19 \t62    \t[ 0.99363978 16.98      ]\t[0.00421354 0.46861498]\t[ 0.96845523 15.        ]\t[ 0.99736842 19.        ]\n",
            "20 \t55    \t[ 0.99345523 16.95      ]\t[0.0039778  0.51720402]\t[ 0.97898154 15.        ]\t[ 0.99736842 19.        ]\n",
            "21 \t61    \t[ 0.99326999 16.82      ]\t[0.00499074 0.55461698]\t[ 0.96842105 15.        ]\t[ 0.99736842 18.        ]\n",
            "22 \t61    \t[ 0.99418387 16.59      ]\t[0.00395603 0.67963225]\t[ 0.97634997 14.        ]\t[ 0.99736842 18.        ]\n",
            "23 \t47    \t[ 0.99467498 16.2       ]\t[0.00449479 0.77459667]\t[ 0.97105263 13.        ]\t[ 0.99736842 18.        ]\n",
            "24 \t55    \t[ 0.99553213 15.96      ]\t[0.00499136 0.52763624]\t[ 0.96848941 14.        ]\t[ 0.99736842 17.        ]\n",
            "25 \t52    \t[ 0.99608237 15.89      ]\t[0.00402601 0.54580216]\t[ 0.97105263 14.        ]\t[ 0.99736842 18.        ]\n",
            "26 \t60    \t[ 0.99605502 15.71      ]\t[0.00419556 0.69706528]\t[ 0.97368421 14.        ]\t[ 0.99736842 19.        ]\n",
            "27 \t62    \t[ 0.99623958 15.39      ]\t[0.0037173  0.56382621]\t[ 0.97631579 14.        ]\t[ 0.99736842 17.        ]\n",
            "28 \t64    \t[ 0.99584723 15.14      ]\t[0.00475422 0.54808758]\t[ 0.97375256 13.        ]\t[ 0.99736842 18.        ]\n",
            "29 \t59    \t[ 0.99577033 14.98      ]\t[0.00417576 0.34583233]\t[ 0.97898154 14.        ]\t[ 0.99736842 16.        ]\n",
            "30 \t59    \t[ 0.99576794 14.94      ]\t[0.0047992  0.48620983]\t[ 0.97105263 13.        ]\t[ 0.99736842 17.        ]\n",
            "31 \t60    \t[ 0.99608271 14.92      ]\t[0.00391743 0.54184869]\t[ 0.97375256 14.        ]\t[ 0.99736842 17.        ]\n",
            "32 \t54    \t[ 0.9963715 14.59     ]  \t[0.00427741 0.53094256]\t[ 0.97105263 13.        ]\t[ 0.99736842 16.        ]\n",
            "33 \t51    \t[ 0.99608271 14.18      ]\t[0.00456899 0.60630026]\t[ 0.97368421 12.        ]\t[ 0.99736842 16.        ]\n",
            "34 \t59    \t[ 0.99576999 13.99      ]\t[0.00432086 0.49989999]\t[ 0.97375256 12.        ]\t[ 0.99736842 16.        ]\n",
            "35 \t60    \t[ 0.99558442 13.98      ]\t[0.00475084 0.70682388]\t[ 0.97382092 10.        ]\t[ 0.99736842 17.        ]\n",
            "36 \t64    \t[ 0.99566439 14.        ]\t[0.00445574 0.42426407]\t[ 0.97641832 12.        ]\t[ 0.99736842 16.        ]\n",
            "37 \t65    \t[ 0.99663431 14.06      ]\t[0.00285122 0.46518813]\t[ 0.97898154 13.        ]\t[ 0.99736842 17.        ]\n",
            "38 \t57    \t[ 0.99608168 14.01      ]\t[0.00482341 0.51951901]\t[ 0.96585783 11.        ]\t[ 0.99736842 16.        ]\n",
            "39 \t61    \t[ 0.99553452 14.01      ]\t[0.00574919 0.51951901]\t[ 0.96326042 13.        ]\t[ 0.99736842 18.        ]\n",
            "Number of Features are  14\n",
            "[False False False False False  True  True  True False  True False  True\n",
            " False  True  True  True  True False False False False  True False  True\n",
            " False False  True False  True  True]\n",
            "\n",
            "\n",
            "Classification Report of 'SVC '\n",
            "\n",
            "              precision    recall  f1-score   support\n",
            "\n",
            "           0       0.96      0.97      0.96       115\n",
            "           1       0.94      0.93      0.94        73\n",
            "\n",
            "    accuracy                           0.95       188\n",
            "   macro avg       0.95      0.95      0.95       188\n",
            "weighted avg       0.95      0.95      0.95       188\n",
            "\n"
          ]
        }
      ]
    },
    {
      "cell_type": "code",
      "metadata": {
        "id": "vPvgVc6yT9s8"
      },
      "source": [
        "from sklearn.metrics import *\n",
        "mcc = make_scorer(matthews_corrcoef)\n",
        "estimator = LogisticRegression(solver = \"liblinear\", C = 6, tol = 1, fit_intercept = True)\n",
        "\n",
        "from sklearn.model_selection import *\n",
        "report = pd.DataFrame()\n",
        "nofeats = [] \n",
        "chosen_feats = [] \n",
        "cvscore = [] \n",
        "rkf = RepeatedStratifiedKFold(n_repeats = 2, n_splits = 10)\n",
        "for i in range(2,11):\n",
        "  \n",
        "  selector = GeneticSelectionCV(estimator,\n",
        "                                cv = rkf,\n",
        "                                verbose = 0,\n",
        "                                scoring = mcc,\n",
        "                                max_features = i,\n",
        "                                n_population = 200,\n",
        "                                crossover_proba = 0.5,\n",
        "                                mutation_proba = 0.2,\n",
        "                                n_generations = 10,\n",
        "                                crossover_independent_proba=0.5,\n",
        "                                mutation_independent_proba=0.05,\n",
        "                                #tournament_size = 3,\n",
        "                                n_gen_no_change=10,\n",
        "                                caching=True,\n",
        "                                n_jobs=-1)\n",
        "  selector = selector.fit(D[allfeats], y)\n",
        "  genfeats = D[allfeats].columns[selector.support_]\n",
        "  genfeats = list(genfeats)\n",
        "  print(\"Chosen Feats:  \", genfeats)\n",
        "\n",
        "  cv_score = selector.generation_scores_[-1]\n",
        "  nofeats.append(len(genfeats)) \n",
        "  chosen_feats.append(genfeats) \n",
        "  cvscore.append(cv_score)\n",
        "report[\"No of Feats\"] = nofeats\n",
        "report[\"Chosen Feats\"] = chosen_feats\n",
        "report[\"Scores\"] = cvscore"
      ],
      "execution_count": null,
      "outputs": []
    },
    {
      "cell_type": "markdown",
      "metadata": {
        "id": "_t4mvNcLCmrG"
      },
      "source": [
        "### Implementation"
      ]
    },
    {
      "cell_type": "code",
      "metadata": {
        "id": "x1raKQakCvEg"
      },
      "source": [
        "plt.figure(figsize=(10, 2))\n",
        "# plt.title(\"Confusion Metric Graph\")\n",
        "\n",
        "\n",
        "for index, cm in enumerate(confusion_matrixs):\n",
        "\n",
        "#    up\n",
        "#     plt.xlabel(\"Negative Positive\")\n",
        "#     plt.ylabel(\"True Positive\")\n",
        "\n",
        "    \n",
        "    \n",
        "    # Show The Metrics Graph    \n",
        "    cm_metrix_graph(cm) # Call the Confusion Metrics Graph\n",
        "    plt.tight_layout(pad=True)"
      ],
      "execution_count": null,
      "outputs": []
    },
    {
      "cell_type": "code",
      "metadata": {
        "id": "LQPJP432CxDR"
      },
      "source": [
        "df_pred"
      ],
      "execution_count": null,
      "outputs": []
    },
    {
      "cell_type": "code",
      "metadata": {
        "id": "G6dHZQC5CzlP"
      },
      "source": [
        "df_pred.sort_values('score', ascending=False)\n",
        "# df_pred.sort_values('accuracy_score', ascending=False)"
      ],
      "execution_count": null,
      "outputs": []
    },
    {
      "cell_type": "code",
      "metadata": {
        "id": "oJm5ihDC3jbA"
      },
      "source": [
        "df_pred.sort_values('score', ascending=False)\n",
        "# df_pred.sort_values('accuracy_score', ascending=False)"
      ],
      "execution_count": null,
      "outputs": []
    },
    {
      "cell_type": "markdown",
      "metadata": {
        "id": "7SO55IPOC4DB"
      },
      "source": [
        "## K-Fold"
      ]
    },
    {
      "cell_type": "code",
      "metadata": {
        "id": "NJ2nfM76C1f4"
      },
      "source": [
        "len(data)\n",
        "# print(len(X))"
      ],
      "execution_count": null,
      "outputs": []
    },
    {
      "cell_type": "code",
      "metadata": {
        "id": "W-KgRug6C7kX"
      },
      "source": [
        "# Sample For testing only\n",
        "\n",
        "cv_score = cross_validate(LogisticRegression(), X, y, cv=3,\n",
        "                        scoring=('r2', 'neg_mean_squared_error'),\n",
        "                        return_train_score=True)\n",
        "\n",
        "pd.DataFrame(cv_score).describe().T"
      ],
      "execution_count": null,
      "outputs": []
    },
    {
      "cell_type": "code",
      "metadata": {
        "id": "7xsNOkmzC-9X"
      },
      "source": [
        "def cross_val_scorring(model):\n",
        "    \n",
        "#     (score, accuracy, predictions) = model_building(model, X_train, X_test, y_train, y_test )\n",
        "    \n",
        "    model.fit(data[prediction_feature], data[targeted_feature])\n",
        "    \n",
        "    # score = model.score(X_train, y_train)    \n",
        "    \n",
        "    predictions = model.predict(data[prediction_feature])    \n",
        "    accuracy = accuracy_score(predictions, data[targeted_feature])\n",
        "    print(\"\\nFull-Data Accuracy:\", round(accuracy, 2))\n",
        "    print(\"Cross Validation Score of'\"+ str(name), \"'\\n\")\n",
        "    \n",
        "    \n",
        "    # Initialize K folds.\n",
        "    kFold = KFold(n_splits=5) # define 5 diffrent data folds\n",
        "    \n",
        "    err = []\n",
        "    \n",
        "    for train_index, test_index in kFold.split(data):\n",
        "        # print(\"TRAIN:\", train_index, \"TEST:\", test_index)\n",
        "\n",
        "        # Data Spliting via fold indexes\n",
        "        X_train = data[prediction_feature].iloc[train_index, :] # train_index = rows and all columns for Prediction_features\n",
        "        y_train = data[targeted_feature].iloc[train_index] # all targeted features trains\n",
        "        \n",
        "        X_test = data[prediction_feature].iloc[test_index, :] # testing all rows and cols\n",
        "        y_test = data[targeted_feature].iloc[test_index] # all targeted tests\n",
        "        \n",
        "        # Again Model Fitting\n",
        "        model.fit(X_train, y_train)\n",
        "\n",
        "        err.append(model.score(X_train, y_train))\n",
        "        \n",
        "        print(\"Score:\", round(np.mean(err),  2) )"
      ],
      "execution_count": null,
      "outputs": []
    },
    {
      "cell_type": "code",
      "metadata": {
        "id": "VCXzQlQsDlRH"
      },
      "source": [
        ""
      ],
      "execution_count": null,
      "outputs": []
    }
  ]
}